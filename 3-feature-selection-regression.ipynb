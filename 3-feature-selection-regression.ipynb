{
 "cells": [
  {
   "cell_type": "code",
   "execution_count": 1,
   "id": "f4fc6345",
   "metadata": {
    "_kg_hide-output": true,
    "execution": {
     "iopub.execute_input": "2023-03-10T12:29:12.902632Z",
     "iopub.status.busy": "2023-03-10T12:29:12.902043Z",
     "iopub.status.idle": "2023-03-10T12:29:26.801381Z",
     "shell.execute_reply": "2023-03-10T12:29:26.799962Z"
    },
    "papermill": {
     "duration": 13.947891,
     "end_time": "2023-03-10T12:29:26.804341",
     "exception": false,
     "start_time": "2023-03-10T12:29:12.856450",
     "status": "completed"
    },
    "tags": []
   },
   "outputs": [
    {
     "name": "stdout",
     "output_type": "stream",
     "text": [
      "Collecting feature-engine\r\n",
      "  Downloading feature_engine-1.4.0-py2.py3-none-any.whl (276 kB)\r\n",
      "\u001b[2K     \u001b[90m━━━━━━━━━━━━━━━━━━━━━━━━━━━━━━━━━━━━━━━\u001b[0m \u001b[32m276.4/276.4 KB\u001b[0m \u001b[31m5.2 MB/s\u001b[0m eta \u001b[36m0:00:00\u001b[0m\r\n",
      "\u001b[?25hRequirement already satisfied: pandas>=1.0.3 in /opt/conda/lib/python3.7/site-packages (from feature-engine) (1.3.5)\r\n",
      "Requirement already satisfied: statsmodels>=0.11.1 in /opt/conda/lib/python3.7/site-packages (from feature-engine) (0.13.2)\r\n",
      "Requirement already satisfied: scipy>=1.4.1 in /opt/conda/lib/python3.7/site-packages (from feature-engine) (1.7.3)\r\n",
      "Requirement already satisfied: numpy>=1.18.2 in /opt/conda/lib/python3.7/site-packages (from feature-engine) (1.21.6)\r\n",
      "Requirement already satisfied: scikit-learn>=1.0.0 in /opt/conda/lib/python3.7/site-packages (from feature-engine) (1.0.2)\r\n",
      "Requirement already satisfied: python-dateutil>=2.7.3 in /opt/conda/lib/python3.7/site-packages (from pandas>=1.0.3->feature-engine) (2.8.2)\r\n",
      "Requirement already satisfied: pytz>=2017.3 in /opt/conda/lib/python3.7/site-packages (from pandas>=1.0.3->feature-engine) (2021.3)\r\n",
      "Requirement already satisfied: threadpoolctl>=2.0.0 in /opt/conda/lib/python3.7/site-packages (from scikit-learn>=1.0.0->feature-engine) (3.1.0)\r\n",
      "Requirement already satisfied: joblib>=0.11 in /opt/conda/lib/python3.7/site-packages (from scikit-learn>=1.0.0->feature-engine) (1.0.1)\r\n",
      "Requirement already satisfied: packaging>=21.3 in /opt/conda/lib/python3.7/site-packages (from statsmodels>=0.11.1->feature-engine) (21.3)\r\n",
      "Requirement already satisfied: patsy>=0.5.2 in /opt/conda/lib/python3.7/site-packages (from statsmodels>=0.11.1->feature-engine) (0.5.2)\r\n",
      "Requirement already satisfied: pyparsing!=3.0.5,>=2.0.2 in /opt/conda/lib/python3.7/site-packages (from packaging>=21.3->statsmodels>=0.11.1->feature-engine) (3.0.7)\r\n",
      "Requirement already satisfied: six in /opt/conda/lib/python3.7/site-packages (from patsy>=0.5.2->statsmodels>=0.11.1->feature-engine) (1.16.0)\r\n",
      "Installing collected packages: feature-engine\r\n",
      "Successfully installed feature-engine-1.4.0\r\n",
      "\u001b[33mWARNING: Running pip as the 'root' user can result in broken permissions and conflicting behaviour with the system package manager. It is recommended to use a virtual environment instead: https://pip.pypa.io/warnings/venv\u001b[0m\u001b[33m\r\n",
      "\u001b[0m"
     ]
    }
   ],
   "source": [
    "!pip install feature-engine"
   ]
  },
  {
   "cell_type": "markdown",
   "id": "a1559b03",
   "metadata": {
    "papermill": {
     "duration": 0.041504,
     "end_time": "2023-03-10T12:29:26.888410",
     "exception": false,
     "start_time": "2023-03-10T12:29:26.846906",
     "status": "completed"
    },
    "tags": []
   },
   "source": [
    "# Load libraries"
   ]
  },
  {
   "cell_type": "code",
   "execution_count": 2,
   "id": "1d397817",
   "metadata": {
    "execution": {
     "iopub.execute_input": "2023-03-10T12:29:26.976757Z",
     "iopub.status.busy": "2023-03-10T12:29:26.976367Z",
     "iopub.status.idle": "2023-03-10T12:29:28.489960Z",
     "shell.execute_reply": "2023-03-10T12:29:28.488864Z"
    },
    "papermill": {
     "duration": 1.560532,
     "end_time": "2023-03-10T12:29:28.492943",
     "exception": false,
     "start_time": "2023-03-10T12:29:26.932411",
     "status": "completed"
    },
    "tags": []
   },
   "outputs": [],
   "source": [
    "from feature_engine.selection import RecursiveFeatureElimination\n",
    "from feature_engine.creation import RelativeFeatures, MathFeatures"
   ]
  },
  {
   "cell_type": "code",
   "execution_count": 3,
   "id": "3d57bb52",
   "metadata": {
    "_cell_guid": "b1076dfc-b9ad-4769-8c92-a6c4dae69d19",
    "_uuid": "8f2839f25d086af736a60e9eeb907d3b93b6e0e5",
    "execution": {
     "iopub.execute_input": "2023-03-10T12:29:28.583083Z",
     "iopub.status.busy": "2023-03-10T12:29:28.582749Z",
     "iopub.status.idle": "2023-03-10T12:29:32.144347Z",
     "shell.execute_reply": "2023-03-10T12:29:32.143117Z"
    },
    "papermill": {
     "duration": 3.609087,
     "end_time": "2023-03-10T12:29:32.147292",
     "exception": false,
     "start_time": "2023-03-10T12:29:28.538205",
     "status": "completed"
    },
    "tags": []
   },
   "outputs": [
    {
     "data": {
      "text/html": [
       "<style type='text/css'>\n",
       ".datatable table.frame { margin-bottom: 0; }\n",
       ".datatable table.frame thead { border-bottom: none; }\n",
       ".datatable table.frame tr.coltypes td {  color: #FFFFFF;  line-height: 6px;  padding: 0 0.5em;}\n",
       ".datatable .bool    { background: #DDDD99; }\n",
       ".datatable .object  { background: #565656; }\n",
       ".datatable .int     { background: #5D9E5D; }\n",
       ".datatable .float   { background: #4040CC; }\n",
       ".datatable .str     { background: #CC4040; }\n",
       ".datatable .time    { background: #40CC40; }\n",
       ".datatable .row_index {  background: var(--jp-border-color3);  border-right: 1px solid var(--jp-border-color0);  color: var(--jp-ui-font-color3);  font-size: 9px;}\n",
       ".datatable .frame tbody td { text-align: left; }\n",
       ".datatable .frame tr.coltypes .row_index {  background: var(--jp-border-color0);}\n",
       ".datatable th:nth-child(2) { padding-left: 12px; }\n",
       ".datatable .hellipsis {  color: var(--jp-cell-editor-border-color);}\n",
       ".datatable .vellipsis {  background: var(--jp-layout-color0);  color: var(--jp-cell-editor-border-color);}\n",
       ".datatable .na {  color: var(--jp-cell-editor-border-color);  font-size: 80%;}\n",
       ".datatable .sp {  opacity: 0.25;}\n",
       ".datatable .footer { font-size: 9px; }\n",
       ".datatable .frame_dimensions {  background: var(--jp-border-color3);  border-top: 1px solid var(--jp-border-color0);  color: var(--jp-ui-font-color3);  display: inline-block;  opacity: 0.6;  padding: 1px 10px 1px 5px;}\n",
       "</style>\n"
      ],
      "text/plain": [
       "<IPython.core.display.HTML object>"
      ]
     },
     "metadata": {},
     "output_type": "display_data"
    }
   ],
   "source": [
    "# Data manipulation and  viz\n",
    "import seaborn as sns \n",
    "import matplotlib.pyplot as plt\n",
    "import pandas as pd \n",
    "import numpy as np \n",
    "\n",
    "import gc\n",
    "from sklearn.model_selection import GridSearchCV\n",
    "from sklearn.model_selection import cross_val_score\n",
    "from sklearn.metrics import make_scorer\n",
    "\n",
    "# Feature importance with modelling\n",
    "import lightgbm as lgb\n",
    "from sklearn.model_selection import train_test_split\n",
    "from sklearn.metrics import roc_auc_score, accuracy_score\n",
    "\n",
    "from sklearn.metrics import log_loss, cohen_kappa_score,mean_squared_error\n",
    "from sklearn.model_selection import train_test_split\n",
    "from sklearn.model_selection import KFold, RepeatedStratifiedKFold,StratifiedKFold, RepeatedKFold\n",
    "from scipy.stats import boxcox, median_abs_deviation\n",
    "from sklearn.preprocessing import StandardScaler, RobustScaler, QuantileTransformer\n",
    "from sklearn.feature_selection import VarianceThreshold, mutual_info_classif, RFECV, SelectKBest\n",
    "from sklearn.decomposition import PCA\n",
    "\n",
    "import shap \n",
    "import lightgbm as lgb\n",
    "import catboost as cat\n",
    "import xgboost as xgb\n",
    "from sklearn.linear_model import Ridge, LinearRegression, HuberRegressor, Lasso,LassoCV,SGDRegressor\n",
    "from sklearn.ensemble import ExtraTreesClassifier, RandomForestClassifier, ExtraTreesRegressor,RandomForestRegressor, GradientBoostingRegressor\n",
    "from sklearn.svm import SVC, SVR"
   ]
  },
  {
   "cell_type": "code",
   "execution_count": 4,
   "id": "c6c27a49",
   "metadata": {
    "execution": {
     "iopub.execute_input": "2023-03-10T12:29:32.237821Z",
     "iopub.status.busy": "2023-03-10T12:29:32.236483Z",
     "iopub.status.idle": "2023-03-10T12:29:32.242170Z",
     "shell.execute_reply": "2023-03-10T12:29:32.241501Z"
    },
    "papermill": {
     "duration": 0.05234,
     "end_time": "2023-03-10T12:29:32.244489",
     "exception": false,
     "start_time": "2023-03-10T12:29:32.192149",
     "status": "completed"
    },
    "tags": []
   },
   "outputs": [],
   "source": [
    "#suppress warnings\n",
    "import warnings\n",
    "warnings.filterwarnings('ignore')"
   ]
  },
  {
   "cell_type": "code",
   "execution_count": 5,
   "id": "89f3f8b7",
   "metadata": {
    "execution": {
     "iopub.execute_input": "2023-03-10T12:29:32.332014Z",
     "iopub.status.busy": "2023-03-10T12:29:32.331368Z",
     "iopub.status.idle": "2023-03-10T12:29:32.338101Z",
     "shell.execute_reply": "2023-03-10T12:29:32.337152Z"
    },
    "papermill": {
     "duration": 0.054107,
     "end_time": "2023-03-10T12:29:32.341069",
     "exception": false,
     "start_time": "2023-03-10T12:29:32.286962",
     "status": "completed"
    },
    "tags": []
   },
   "outputs": [],
   "source": [
    "target = \"Strength\" #Target column that we will be predicting, this is here for quick reference \n",
    "\n",
    "# Different scaling options\n",
    "SCALING = False\n",
    "SCALER = QuantileTransformer(output_distribution = \"normal\") #RobustScaler()\n",
    "\n",
    "TEST_ON_GENERATED_ONLY = True\n",
    "ADD_DATA= True\n",
    "EPOCHS= 1000\n",
    "\n",
    "FEATURE_ENGINE = False\n",
    "USE_SYM  = False\n",
    "\n",
    "NUM_FOLDS =5\n",
    "NUM_SPLITS = 3\n",
    "\n",
    "RFECV1 = True\n",
    "RFE_STEP = 0.01\n",
    "\n",
    "name = 'Gradient' #LinearRegression rf #ET catboost lightgbm xgboost Gradient, Ridge, SVR ----for LR turn off 'Test_on_Generated'"
   ]
  },
  {
   "cell_type": "code",
   "execution_count": 6,
   "id": "7b812db3",
   "metadata": {
    "execution": {
     "iopub.execute_input": "2023-03-10T12:29:32.434466Z",
     "iopub.status.busy": "2023-03-10T12:29:32.434111Z",
     "iopub.status.idle": "2023-03-10T12:29:32.439398Z",
     "shell.execute_reply": "2023-03-10T12:29:32.438364Z"
    },
    "papermill": {
     "duration": 0.055241,
     "end_time": "2023-03-10T12:29:32.441578",
     "exception": false,
     "start_time": "2023-03-10T12:29:32.386337",
     "status": "completed"
    },
    "tags": []
   },
   "outputs": [],
   "source": [
    "# Notebook settings\n",
    "sns.set_style(\"darkgrid\")\n",
    "pd.set_option('mode.chained_assignment',None)"
   ]
  },
  {
   "cell_type": "markdown",
   "id": "d3c24d7b",
   "metadata": {
    "papermill": {
     "duration": 0.043106,
     "end_time": "2023-03-10T12:29:32.527320",
     "exception": false,
     "start_time": "2023-03-10T12:29:32.484214",
     "status": "completed"
    },
    "tags": []
   },
   "source": [
    "## 💾 Load Data 💾\n",
    "Data taken from TPS May 2022 competition "
   ]
  },
  {
   "cell_type": "code",
   "execution_count": 7,
   "id": "4b7685ea",
   "metadata": {
    "execution": {
     "iopub.execute_input": "2023-03-10T12:29:32.616983Z",
     "iopub.status.busy": "2023-03-10T12:29:32.616519Z",
     "iopub.status.idle": "2023-03-10T12:29:32.706840Z",
     "shell.execute_reply": "2023-03-10T12:29:32.705684Z"
    },
    "papermill": {
     "duration": 0.138221,
     "end_time": "2023-03-10T12:29:32.709546",
     "exception": false,
     "start_time": "2023-03-10T12:29:32.571325",
     "status": "completed"
    },
    "tags": []
   },
   "outputs": [
    {
     "data": {
      "text/html": [
       "<div>\n",
       "<style scoped>\n",
       "    .dataframe tbody tr th:only-of-type {\n",
       "        vertical-align: middle;\n",
       "    }\n",
       "\n",
       "    .dataframe tbody tr th {\n",
       "        vertical-align: top;\n",
       "    }\n",
       "\n",
       "    .dataframe thead th {\n",
       "        text-align: right;\n",
       "    }\n",
       "</style>\n",
       "<table border=\"1\" class=\"dataframe\">\n",
       "  <thead>\n",
       "    <tr style=\"text-align: right;\">\n",
       "      <th></th>\n",
       "      <th>CementComponent</th>\n",
       "      <th>BlastFurnaceSlag</th>\n",
       "      <th>FlyAshComponent</th>\n",
       "      <th>WaterComponent</th>\n",
       "      <th>SuperplasticizerComponent</th>\n",
       "      <th>CoarseAggregateComponent</th>\n",
       "      <th>FineAggregateComponent</th>\n",
       "      <th>AgeInDays</th>\n",
       "      <th>Strength</th>\n",
       "    </tr>\n",
       "    <tr>\n",
       "      <th>id</th>\n",
       "      <th></th>\n",
       "      <th></th>\n",
       "      <th></th>\n",
       "      <th></th>\n",
       "      <th></th>\n",
       "      <th></th>\n",
       "      <th></th>\n",
       "      <th></th>\n",
       "      <th></th>\n",
       "    </tr>\n",
       "  </thead>\n",
       "  <tbody>\n",
       "    <tr>\n",
       "      <th>0</th>\n",
       "      <td>525.0</td>\n",
       "      <td>0.0</td>\n",
       "      <td>0.0</td>\n",
       "      <td>186.0</td>\n",
       "      <td>0.0</td>\n",
       "      <td>1125.0</td>\n",
       "      <td>613.0</td>\n",
       "      <td>3</td>\n",
       "      <td>10.38</td>\n",
       "    </tr>\n",
       "    <tr>\n",
       "      <th>1</th>\n",
       "      <td>143.0</td>\n",
       "      <td>169.0</td>\n",
       "      <td>143.0</td>\n",
       "      <td>191.0</td>\n",
       "      <td>8.0</td>\n",
       "      <td>967.0</td>\n",
       "      <td>643.0</td>\n",
       "      <td>28</td>\n",
       "      <td>23.52</td>\n",
       "    </tr>\n",
       "    <tr>\n",
       "      <th>2</th>\n",
       "      <td>289.0</td>\n",
       "      <td>134.7</td>\n",
       "      <td>0.0</td>\n",
       "      <td>185.7</td>\n",
       "      <td>0.0</td>\n",
       "      <td>1075.0</td>\n",
       "      <td>795.3</td>\n",
       "      <td>28</td>\n",
       "      <td>36.96</td>\n",
       "    </tr>\n",
       "    <tr>\n",
       "      <th>3</th>\n",
       "      <td>304.0</td>\n",
       "      <td>76.0</td>\n",
       "      <td>0.0</td>\n",
       "      <td>228.0</td>\n",
       "      <td>0.0</td>\n",
       "      <td>932.0</td>\n",
       "      <td>670.0</td>\n",
       "      <td>365</td>\n",
       "      <td>39.05</td>\n",
       "    </tr>\n",
       "    <tr>\n",
       "      <th>4</th>\n",
       "      <td>157.0</td>\n",
       "      <td>236.0</td>\n",
       "      <td>0.0</td>\n",
       "      <td>192.0</td>\n",
       "      <td>0.0</td>\n",
       "      <td>935.4</td>\n",
       "      <td>781.2</td>\n",
       "      <td>90</td>\n",
       "      <td>74.19</td>\n",
       "    </tr>\n",
       "    <tr>\n",
       "      <th>...</th>\n",
       "      <td>...</td>\n",
       "      <td>...</td>\n",
       "      <td>...</td>\n",
       "      <td>...</td>\n",
       "      <td>...</td>\n",
       "      <td>...</td>\n",
       "      <td>...</td>\n",
       "      <td>...</td>\n",
       "      <td>...</td>\n",
       "    </tr>\n",
       "    <tr>\n",
       "      <th>5402</th>\n",
       "      <td>446.0</td>\n",
       "      <td>24.0</td>\n",
       "      <td>79.0</td>\n",
       "      <td>162.0</td>\n",
       "      <td>11.6</td>\n",
       "      <td>967.0</td>\n",
       "      <td>712.0</td>\n",
       "      <td>3</td>\n",
       "      <td>15.42</td>\n",
       "    </tr>\n",
       "    <tr>\n",
       "      <th>5403</th>\n",
       "      <td>350.0</td>\n",
       "      <td>0.0</td>\n",
       "      <td>0.0</td>\n",
       "      <td>203.0</td>\n",
       "      <td>0.0</td>\n",
       "      <td>974.0</td>\n",
       "      <td>775.0</td>\n",
       "      <td>180</td>\n",
       "      <td>49.20</td>\n",
       "    </tr>\n",
       "    <tr>\n",
       "      <th>5404</th>\n",
       "      <td>295.8</td>\n",
       "      <td>0.0</td>\n",
       "      <td>0.0</td>\n",
       "      <td>185.7</td>\n",
       "      <td>0.0</td>\n",
       "      <td>1076.2</td>\n",
       "      <td>759.3</td>\n",
       "      <td>28</td>\n",
       "      <td>39.30</td>\n",
       "    </tr>\n",
       "    <tr>\n",
       "      <th>5405</th>\n",
       "      <td>376.0</td>\n",
       "      <td>93.4</td>\n",
       "      <td>0.0</td>\n",
       "      <td>162.6</td>\n",
       "      <td>11.5</td>\n",
       "      <td>955.8</td>\n",
       "      <td>662.9</td>\n",
       "      <td>28</td>\n",
       "      <td>39.61</td>\n",
       "    </tr>\n",
       "    <tr>\n",
       "      <th>5406</th>\n",
       "      <td>190.7</td>\n",
       "      <td>0.0</td>\n",
       "      <td>125.2</td>\n",
       "      <td>166.6</td>\n",
       "      <td>7.9</td>\n",
       "      <td>1079.0</td>\n",
       "      <td>770.1</td>\n",
       "      <td>56</td>\n",
       "      <td>63.14</td>\n",
       "    </tr>\n",
       "  </tbody>\n",
       "</table>\n",
       "<p>5407 rows × 9 columns</p>\n",
       "</div>"
      ],
      "text/plain": [
       "      CementComponent  BlastFurnaceSlag  FlyAshComponent  WaterComponent  \\\n",
       "id                                                                         \n",
       "0               525.0               0.0              0.0           186.0   \n",
       "1               143.0             169.0            143.0           191.0   \n",
       "2               289.0             134.7              0.0           185.7   \n",
       "3               304.0              76.0              0.0           228.0   \n",
       "4               157.0             236.0              0.0           192.0   \n",
       "...               ...               ...              ...             ...   \n",
       "5402            446.0              24.0             79.0           162.0   \n",
       "5403            350.0               0.0              0.0           203.0   \n",
       "5404            295.8               0.0              0.0           185.7   \n",
       "5405            376.0              93.4              0.0           162.6   \n",
       "5406            190.7               0.0            125.2           166.6   \n",
       "\n",
       "      SuperplasticizerComponent  CoarseAggregateComponent  \\\n",
       "id                                                          \n",
       "0                           0.0                    1125.0   \n",
       "1                           8.0                     967.0   \n",
       "2                           0.0                    1075.0   \n",
       "3                           0.0                     932.0   \n",
       "4                           0.0                     935.4   \n",
       "...                         ...                       ...   \n",
       "5402                       11.6                     967.0   \n",
       "5403                        0.0                     974.0   \n",
       "5404                        0.0                    1076.2   \n",
       "5405                       11.5                     955.8   \n",
       "5406                        7.9                    1079.0   \n",
       "\n",
       "      FineAggregateComponent  AgeInDays  Strength  \n",
       "id                                                 \n",
       "0                      613.0          3     10.38  \n",
       "1                      643.0         28     23.52  \n",
       "2                      795.3         28     36.96  \n",
       "3                      670.0        365     39.05  \n",
       "4                      781.2         90     74.19  \n",
       "...                      ...        ...       ...  \n",
       "5402                   712.0          3     15.42  \n",
       "5403                   775.0        180     49.20  \n",
       "5404                   759.3         28     39.30  \n",
       "5405                   662.9         28     39.61  \n",
       "5406                   770.1         56     63.14  \n",
       "\n",
       "[5407 rows x 9 columns]"
      ]
     },
     "execution_count": 7,
     "metadata": {},
     "output_type": "execute_result"
    }
   ],
   "source": [
    "df_train = pd.read_csv(\"/kaggle/input/playground-series-s3e9/train.csv\", index_col = 0)\n",
    "df_test = pd.read_csv(\"/kaggle/input/playground-series-s3e9/test.csv\", index_col = 0)\n",
    "sub = pd.read_csv(\"/kaggle/input/playground-series-s3e9/sample_submission.csv\",index_col = 0)\n",
    "df_train"
   ]
  },
  {
   "cell_type": "code",
   "execution_count": 8,
   "id": "25e6727f",
   "metadata": {
    "execution": {
     "iopub.execute_input": "2023-03-10T12:29:32.798223Z",
     "iopub.status.busy": "2023-03-10T12:29:32.797897Z",
     "iopub.status.idle": "2023-03-10T12:29:32.839155Z",
     "shell.execute_reply": "2023-03-10T12:29:32.837889Z"
    },
    "papermill": {
     "duration": 0.087946,
     "end_time": "2023-03-10T12:29:32.841710",
     "exception": false,
     "start_time": "2023-03-10T12:29:32.753764",
     "status": "completed"
    },
    "tags": []
   },
   "outputs": [
    {
     "name": "stdout",
     "output_type": "stream",
     "text": [
      "length of additional data 1030\n",
      "length of original data 5407\n"
     ]
    },
    {
     "data": {
      "text/html": [
       "<div>\n",
       "<style scoped>\n",
       "    .dataframe tbody tr th:only-of-type {\n",
       "        vertical-align: middle;\n",
       "    }\n",
       "\n",
       "    .dataframe tbody tr th {\n",
       "        vertical-align: top;\n",
       "    }\n",
       "\n",
       "    .dataframe thead th {\n",
       "        text-align: right;\n",
       "    }\n",
       "</style>\n",
       "<table border=\"1\" class=\"dataframe\">\n",
       "  <thead>\n",
       "    <tr style=\"text-align: right;\">\n",
       "      <th></th>\n",
       "      <th>CementComponent</th>\n",
       "      <th>BlastFurnaceSlag</th>\n",
       "      <th>FlyAshComponent</th>\n",
       "      <th>WaterComponent</th>\n",
       "      <th>SuperplasticizerComponent</th>\n",
       "      <th>CoarseAggregateComponent</th>\n",
       "      <th>FineAggregateComponent</th>\n",
       "      <th>AgeInDays</th>\n",
       "      <th>Strength</th>\n",
       "      <th>is_generated</th>\n",
       "    </tr>\n",
       "  </thead>\n",
       "  <tbody>\n",
       "    <tr>\n",
       "      <th>0</th>\n",
       "      <td>525.0</td>\n",
       "      <td>0.0</td>\n",
       "      <td>0.0</td>\n",
       "      <td>186.0</td>\n",
       "      <td>0.0</td>\n",
       "      <td>1125.0</td>\n",
       "      <td>613.0</td>\n",
       "      <td>3</td>\n",
       "      <td>10.38</td>\n",
       "      <td>1</td>\n",
       "    </tr>\n",
       "    <tr>\n",
       "      <th>1</th>\n",
       "      <td>143.0</td>\n",
       "      <td>169.0</td>\n",
       "      <td>143.0</td>\n",
       "      <td>191.0</td>\n",
       "      <td>8.0</td>\n",
       "      <td>967.0</td>\n",
       "      <td>643.0</td>\n",
       "      <td>28</td>\n",
       "      <td>23.52</td>\n",
       "      <td>1</td>\n",
       "    </tr>\n",
       "    <tr>\n",
       "      <th>2</th>\n",
       "      <td>289.0</td>\n",
       "      <td>134.7</td>\n",
       "      <td>0.0</td>\n",
       "      <td>185.7</td>\n",
       "      <td>0.0</td>\n",
       "      <td>1075.0</td>\n",
       "      <td>795.3</td>\n",
       "      <td>28</td>\n",
       "      <td>36.96</td>\n",
       "      <td>1</td>\n",
       "    </tr>\n",
       "    <tr>\n",
       "      <th>3</th>\n",
       "      <td>304.0</td>\n",
       "      <td>76.0</td>\n",
       "      <td>0.0</td>\n",
       "      <td>228.0</td>\n",
       "      <td>0.0</td>\n",
       "      <td>932.0</td>\n",
       "      <td>670.0</td>\n",
       "      <td>365</td>\n",
       "      <td>39.05</td>\n",
       "      <td>1</td>\n",
       "    </tr>\n",
       "    <tr>\n",
       "      <th>4</th>\n",
       "      <td>157.0</td>\n",
       "      <td>236.0</td>\n",
       "      <td>0.0</td>\n",
       "      <td>192.0</td>\n",
       "      <td>0.0</td>\n",
       "      <td>935.4</td>\n",
       "      <td>781.2</td>\n",
       "      <td>90</td>\n",
       "      <td>74.19</td>\n",
       "      <td>1</td>\n",
       "    </tr>\n",
       "    <tr>\n",
       "      <th>...</th>\n",
       "      <td>...</td>\n",
       "      <td>...</td>\n",
       "      <td>...</td>\n",
       "      <td>...</td>\n",
       "      <td>...</td>\n",
       "      <td>...</td>\n",
       "      <td>...</td>\n",
       "      <td>...</td>\n",
       "      <td>...</td>\n",
       "      <td>...</td>\n",
       "    </tr>\n",
       "    <tr>\n",
       "      <th>6432</th>\n",
       "      <td>276.4</td>\n",
       "      <td>116.0</td>\n",
       "      <td>90.3</td>\n",
       "      <td>179.6</td>\n",
       "      <td>8.9</td>\n",
       "      <td>870.1</td>\n",
       "      <td>768.3</td>\n",
       "      <td>28</td>\n",
       "      <td>44.28</td>\n",
       "      <td>0</td>\n",
       "    </tr>\n",
       "    <tr>\n",
       "      <th>6433</th>\n",
       "      <td>322.2</td>\n",
       "      <td>0.0</td>\n",
       "      <td>115.6</td>\n",
       "      <td>196.0</td>\n",
       "      <td>10.4</td>\n",
       "      <td>817.9</td>\n",
       "      <td>813.4</td>\n",
       "      <td>28</td>\n",
       "      <td>31.18</td>\n",
       "      <td>0</td>\n",
       "    </tr>\n",
       "    <tr>\n",
       "      <th>6434</th>\n",
       "      <td>148.5</td>\n",
       "      <td>139.4</td>\n",
       "      <td>108.6</td>\n",
       "      <td>192.7</td>\n",
       "      <td>6.1</td>\n",
       "      <td>892.4</td>\n",
       "      <td>780.0</td>\n",
       "      <td>28</td>\n",
       "      <td>23.70</td>\n",
       "      <td>0</td>\n",
       "    </tr>\n",
       "    <tr>\n",
       "      <th>6435</th>\n",
       "      <td>159.1</td>\n",
       "      <td>186.7</td>\n",
       "      <td>0.0</td>\n",
       "      <td>175.6</td>\n",
       "      <td>11.3</td>\n",
       "      <td>989.6</td>\n",
       "      <td>788.9</td>\n",
       "      <td>28</td>\n",
       "      <td>32.77</td>\n",
       "      <td>0</td>\n",
       "    </tr>\n",
       "    <tr>\n",
       "      <th>6436</th>\n",
       "      <td>260.9</td>\n",
       "      <td>100.5</td>\n",
       "      <td>78.3</td>\n",
       "      <td>200.6</td>\n",
       "      <td>8.6</td>\n",
       "      <td>864.5</td>\n",
       "      <td>761.5</td>\n",
       "      <td>28</td>\n",
       "      <td>32.40</td>\n",
       "      <td>0</td>\n",
       "    </tr>\n",
       "  </tbody>\n",
       "</table>\n",
       "<p>6437 rows × 10 columns</p>\n",
       "</div>"
      ],
      "text/plain": [
       "      CementComponent  BlastFurnaceSlag  FlyAshComponent  WaterComponent  \\\n",
       "0               525.0               0.0              0.0           186.0   \n",
       "1               143.0             169.0            143.0           191.0   \n",
       "2               289.0             134.7              0.0           185.7   \n",
       "3               304.0              76.0              0.0           228.0   \n",
       "4               157.0             236.0              0.0           192.0   \n",
       "...               ...               ...              ...             ...   \n",
       "6432            276.4             116.0             90.3           179.6   \n",
       "6433            322.2               0.0            115.6           196.0   \n",
       "6434            148.5             139.4            108.6           192.7   \n",
       "6435            159.1             186.7              0.0           175.6   \n",
       "6436            260.9             100.5             78.3           200.6   \n",
       "\n",
       "      SuperplasticizerComponent  CoarseAggregateComponent  \\\n",
       "0                           0.0                    1125.0   \n",
       "1                           8.0                     967.0   \n",
       "2                           0.0                    1075.0   \n",
       "3                           0.0                     932.0   \n",
       "4                           0.0                     935.4   \n",
       "...                         ...                       ...   \n",
       "6432                        8.9                     870.1   \n",
       "6433                       10.4                     817.9   \n",
       "6434                        6.1                     892.4   \n",
       "6435                       11.3                     989.6   \n",
       "6436                        8.6                     864.5   \n",
       "\n",
       "      FineAggregateComponent  AgeInDays  Strength  is_generated  \n",
       "0                      613.0          3     10.38             1  \n",
       "1                      643.0         28     23.52             1  \n",
       "2                      795.3         28     36.96             1  \n",
       "3                      670.0        365     39.05             1  \n",
       "4                      781.2         90     74.19             1  \n",
       "...                      ...        ...       ...           ...  \n",
       "6432                   768.3         28     44.28             0  \n",
       "6433                   813.4         28     31.18             0  \n",
       "6434                   780.0         28     23.70             0  \n",
       "6435                   788.9         28     32.77             0  \n",
       "6436                   761.5         28     32.40             0  \n",
       "\n",
       "[6437 rows x 10 columns]"
      ]
     },
     "execution_count": 8,
     "metadata": {},
     "output_type": "execute_result"
    }
   ],
   "source": [
    "if ADD_DATA:\n",
    "    add_data = pd.read_csv('/kaggle/input/predict-concrete-strength/ConcreteStrengthData.csv')\n",
    "    \n",
    "    print(\"length of additional data\", len(add_data))\n",
    "    print(\"length of original data\", len(df_train))\n",
    "    df_train['is_generated'] = 1\n",
    "    df_test['is_generated'] = 1\n",
    "    add_data['is_generated'] = 0\n",
    "    add_data.columns =df_train.columns\n",
    "\n",
    "    df_train = pd.concat([df_train, add_data],axis=0, ignore_index=True)\n",
    "df_train"
   ]
  },
  {
   "cell_type": "code",
   "execution_count": 9,
   "id": "fee11cc7",
   "metadata": {
    "execution": {
     "iopub.execute_input": "2023-03-10T12:29:32.935464Z",
     "iopub.status.busy": "2023-03-10T12:29:32.935058Z",
     "iopub.status.idle": "2023-03-10T12:29:32.969046Z",
     "shell.execute_reply": "2023-03-10T12:29:32.967316Z"
    },
    "papermill": {
     "duration": 0.085385,
     "end_time": "2023-03-10T12:29:32.972363",
     "exception": false,
     "start_time": "2023-03-10T12:29:32.886978",
     "status": "completed"
    },
    "tags": []
   },
   "outputs": [
    {
     "data": {
      "text/html": [
       "<div>\n",
       "<style scoped>\n",
       "    .dataframe tbody tr th:only-of-type {\n",
       "        vertical-align: middle;\n",
       "    }\n",
       "\n",
       "    .dataframe tbody tr th {\n",
       "        vertical-align: top;\n",
       "    }\n",
       "\n",
       "    .dataframe thead th {\n",
       "        text-align: right;\n",
       "    }\n",
       "</style>\n",
       "<table border=\"1\" class=\"dataframe\">\n",
       "  <thead>\n",
       "    <tr style=\"text-align: right;\">\n",
       "      <th></th>\n",
       "      <th>CementComponent</th>\n",
       "      <th>BlastFurnaceSlag</th>\n",
       "      <th>FlyAshComponent</th>\n",
       "      <th>WaterComponent</th>\n",
       "      <th>SuperplasticizerComponent</th>\n",
       "      <th>CoarseAggregateComponent</th>\n",
       "      <th>FineAggregateComponent</th>\n",
       "      <th>AgeInDays</th>\n",
       "      <th>is_generated</th>\n",
       "    </tr>\n",
       "    <tr>\n",
       "      <th>id</th>\n",
       "      <th></th>\n",
       "      <th></th>\n",
       "      <th></th>\n",
       "      <th></th>\n",
       "      <th></th>\n",
       "      <th></th>\n",
       "      <th></th>\n",
       "      <th></th>\n",
       "      <th></th>\n",
       "    </tr>\n",
       "  </thead>\n",
       "  <tbody>\n",
       "    <tr>\n",
       "      <th>5407</th>\n",
       "      <td>166.1</td>\n",
       "      <td>75.4</td>\n",
       "      <td>163.8</td>\n",
       "      <td>173.8</td>\n",
       "      <td>4.6</td>\n",
       "      <td>1007.2</td>\n",
       "      <td>746.6</td>\n",
       "      <td>56</td>\n",
       "      <td>1</td>\n",
       "    </tr>\n",
       "    <tr>\n",
       "      <th>5408</th>\n",
       "      <td>304.0</td>\n",
       "      <td>0.0</td>\n",
       "      <td>0.0</td>\n",
       "      <td>190.0</td>\n",
       "      <td>0.0</td>\n",
       "      <td>998.0</td>\n",
       "      <td>801.0</td>\n",
       "      <td>7</td>\n",
       "      <td>1</td>\n",
       "    </tr>\n",
       "    <tr>\n",
       "      <th>5409</th>\n",
       "      <td>225.0</td>\n",
       "      <td>0.0</td>\n",
       "      <td>0.0</td>\n",
       "      <td>185.0</td>\n",
       "      <td>0.0</td>\n",
       "      <td>1113.0</td>\n",
       "      <td>833.0</td>\n",
       "      <td>28</td>\n",
       "      <td>1</td>\n",
       "    </tr>\n",
       "    <tr>\n",
       "      <th>5410</th>\n",
       "      <td>251.4</td>\n",
       "      <td>0.0</td>\n",
       "      <td>118.3</td>\n",
       "      <td>188.5</td>\n",
       "      <td>6.4</td>\n",
       "      <td>1028.4</td>\n",
       "      <td>757.7</td>\n",
       "      <td>100</td>\n",
       "      <td>1</td>\n",
       "    </tr>\n",
       "    <tr>\n",
       "      <th>5411</th>\n",
       "      <td>144.0</td>\n",
       "      <td>15.0</td>\n",
       "      <td>195.0</td>\n",
       "      <td>176.0</td>\n",
       "      <td>6.0</td>\n",
       "      <td>1021.0</td>\n",
       "      <td>709.0</td>\n",
       "      <td>28</td>\n",
       "      <td>1</td>\n",
       "    </tr>\n",
       "    <tr>\n",
       "      <th>...</th>\n",
       "      <td>...</td>\n",
       "      <td>...</td>\n",
       "      <td>...</td>\n",
       "      <td>...</td>\n",
       "      <td>...</td>\n",
       "      <td>...</td>\n",
       "      <td>...</td>\n",
       "      <td>...</td>\n",
       "      <td>...</td>\n",
       "    </tr>\n",
       "    <tr>\n",
       "      <th>9007</th>\n",
       "      <td>140.0</td>\n",
       "      <td>129.0</td>\n",
       "      <td>100.0</td>\n",
       "      <td>200.0</td>\n",
       "      <td>7.0</td>\n",
       "      <td>864.0</td>\n",
       "      <td>753.0</td>\n",
       "      <td>28</td>\n",
       "      <td>1</td>\n",
       "    </tr>\n",
       "    <tr>\n",
       "      <th>9008</th>\n",
       "      <td>281.0</td>\n",
       "      <td>0.0</td>\n",
       "      <td>0.0</td>\n",
       "      <td>186.0</td>\n",
       "      <td>0.0</td>\n",
       "      <td>1104.0</td>\n",
       "      <td>774.0</td>\n",
       "      <td>28</td>\n",
       "      <td>1</td>\n",
       "    </tr>\n",
       "    <tr>\n",
       "      <th>9009</th>\n",
       "      <td>289.0</td>\n",
       "      <td>133.0</td>\n",
       "      <td>0.0</td>\n",
       "      <td>194.0</td>\n",
       "      <td>7.0</td>\n",
       "      <td>924.0</td>\n",
       "      <td>760.0</td>\n",
       "      <td>28</td>\n",
       "      <td>1</td>\n",
       "    </tr>\n",
       "    <tr>\n",
       "      <th>9010</th>\n",
       "      <td>469.0</td>\n",
       "      <td>117.2</td>\n",
       "      <td>0.0</td>\n",
       "      <td>137.8</td>\n",
       "      <td>32.2</td>\n",
       "      <td>852.1</td>\n",
       "      <td>840.5</td>\n",
       "      <td>3</td>\n",
       "      <td>1</td>\n",
       "    </tr>\n",
       "    <tr>\n",
       "      <th>9011</th>\n",
       "      <td>332.5</td>\n",
       "      <td>142.5</td>\n",
       "      <td>0.0</td>\n",
       "      <td>228.0</td>\n",
       "      <td>0.0</td>\n",
       "      <td>932.0</td>\n",
       "      <td>594.0</td>\n",
       "      <td>7</td>\n",
       "      <td>1</td>\n",
       "    </tr>\n",
       "  </tbody>\n",
       "</table>\n",
       "<p>3605 rows × 9 columns</p>\n",
       "</div>"
      ],
      "text/plain": [
       "      CementComponent  BlastFurnaceSlag  FlyAshComponent  WaterComponent  \\\n",
       "id                                                                         \n",
       "5407            166.1              75.4            163.8           173.8   \n",
       "5408            304.0               0.0              0.0           190.0   \n",
       "5409            225.0               0.0              0.0           185.0   \n",
       "5410            251.4               0.0            118.3           188.5   \n",
       "5411            144.0              15.0            195.0           176.0   \n",
       "...               ...               ...              ...             ...   \n",
       "9007            140.0             129.0            100.0           200.0   \n",
       "9008            281.0               0.0              0.0           186.0   \n",
       "9009            289.0             133.0              0.0           194.0   \n",
       "9010            469.0             117.2              0.0           137.8   \n",
       "9011            332.5             142.5              0.0           228.0   \n",
       "\n",
       "      SuperplasticizerComponent  CoarseAggregateComponent  \\\n",
       "id                                                          \n",
       "5407                        4.6                    1007.2   \n",
       "5408                        0.0                     998.0   \n",
       "5409                        0.0                    1113.0   \n",
       "5410                        6.4                    1028.4   \n",
       "5411                        6.0                    1021.0   \n",
       "...                         ...                       ...   \n",
       "9007                        7.0                     864.0   \n",
       "9008                        0.0                    1104.0   \n",
       "9009                        7.0                     924.0   \n",
       "9010                       32.2                     852.1   \n",
       "9011                        0.0                     932.0   \n",
       "\n",
       "      FineAggregateComponent  AgeInDays  is_generated  \n",
       "id                                                     \n",
       "5407                   746.6         56             1  \n",
       "5408                   801.0          7             1  \n",
       "5409                   833.0         28             1  \n",
       "5410                   757.7        100             1  \n",
       "5411                   709.0         28             1  \n",
       "...                      ...        ...           ...  \n",
       "9007                   753.0         28             1  \n",
       "9008                   774.0         28             1  \n",
       "9009                   760.0         28             1  \n",
       "9010                   840.5          3             1  \n",
       "9011                   594.0          7             1  \n",
       "\n",
       "[3605 rows x 9 columns]"
      ]
     },
     "execution_count": 9,
     "metadata": {},
     "output_type": "execute_result"
    }
   ],
   "source": [
    "if USE_SYM:\n",
    "    sym_cols_trn = pd.read_csv(\"/kaggle/input/pse3e9-2-feature-creation-symbolic-transform/Symbolic_Feats_trn_12.01.csv\", index_col = 0).set_index(df_train.index)\n",
    "    df_train  = pd.concat([df_train,sym_cols_trn], axis =1,ignore_index = True) \n",
    "    df_test  = pd.concat([df_test,sym_cols_trn], axis =1,ignore_index = True) \n",
    "df_test"
   ]
  },
  {
   "cell_type": "markdown",
   "id": "a0b5c7b7",
   "metadata": {
    "papermill": {
     "duration": 0.053857,
     "end_time": "2023-03-10T12:29:33.095253",
     "exception": false,
     "start_time": "2023-03-10T12:29:33.041396",
     "status": "completed"
    },
    "tags": []
   },
   "source": [
    "## Helper Functions"
   ]
  },
  {
   "cell_type": "code",
   "execution_count": 10,
   "id": "5d87999b",
   "metadata": {
    "execution": {
     "iopub.execute_input": "2023-03-10T12:29:33.187809Z",
     "iopub.status.busy": "2023-03-10T12:29:33.187454Z",
     "iopub.status.idle": "2023-03-10T12:29:33.197463Z",
     "shell.execute_reply": "2023-03-10T12:29:33.196602Z"
    },
    "papermill": {
     "duration": 0.059268,
     "end_time": "2023-03-10T12:29:33.199711",
     "exception": false,
     "start_time": "2023-03-10T12:29:33.140443",
     "status": "completed"
    },
    "tags": []
   },
   "outputs": [],
   "source": [
    "def base_model(X_trn,y_trn,X_tst,y_tst, name,model_in, X_in, test_in, print_scores = True):\n",
    "    \n",
    "    if name in [\"lightgbm\"]:\n",
    "        model_in.fit(X_trn,y_trn,\n",
    "              eval_set=[(X_tst,y_tst)],\n",
    "              callbacks= [lgb.log_evaluation(-1), lgb.early_stopping(30)])\n",
    "        \n",
    "    elif name in [\"xgboost\"]:\n",
    "        model_in.fit(X_trn,y_trn,\n",
    "                     eval_set=[(X_tst,y_tst)],\n",
    "                  verbose= 0\n",
    "                 )\n",
    "    elif name in [\"catboost\"]:\n",
    "        model_in.fit(X_trn,y_trn,\n",
    "                  eval_set=[(X_tst,y_tst)],\n",
    "                  early_stopping_rounds=30,\n",
    "                  verbose= 0\n",
    "                 )          \n",
    "    else:\n",
    "        model_in.fit(X_trn,y_trn)\n",
    "\n",
    "    val_preds = model_in.predict(X_tst)\n",
    "    trn_preds = model_in.predict(X_in)\n",
    "    test_preds = model_in.predict(test_in)\n",
    "    \n",
    "    score_trn =mean_squared_error(y, trn_preds)**0.5\n",
    "    score_val = mean_squared_error(y_tst, val_preds )**0.5\n",
    "    \n",
    "    if print_scores:\n",
    "        print(\"\\nTrn Score:\",score_trn)\n",
    "        print(\"Val Score:\",score_val)\n",
    "        #print(\"Val logloss\", log_loss(y,trn_preds_base))\n",
    "    \n",
    "    return test_preds, trn_preds, val_preds, score_trn, score_val, model_in"
   ]
  },
  {
   "cell_type": "code",
   "execution_count": 11,
   "id": "e1f69d0c",
   "metadata": {
    "execution": {
     "iopub.execute_input": "2023-03-10T12:29:33.291475Z",
     "iopub.status.busy": "2023-03-10T12:29:33.290652Z",
     "iopub.status.idle": "2023-03-10T12:29:33.296559Z",
     "shell.execute_reply": "2023-03-10T12:29:33.295800Z"
    },
    "papermill": {
     "duration": 0.054242,
     "end_time": "2023-03-10T12:29:33.298730",
     "exception": false,
     "start_time": "2023-03-10T12:29:33.244488",
     "status": "completed"
    },
    "tags": []
   },
   "outputs": [],
   "source": [
    "def mean_squared_error_root(y_true,y_pred):\n",
    "    return  mean_squared_error(y_true,y_pred)**0.5\n",
    "scorer = make_scorer(mean_squared_error_root,greater_is_better=False)\n",
    "kfold = RepeatedKFold(n_splits=NUM_FOLDS, n_repeats=NUM_SPLITS, random_state=200)"
   ]
  },
  {
   "cell_type": "markdown",
   "id": "bcfe0251",
   "metadata": {
    "papermill": {
     "duration": 0.044241,
     "end_time": "2023-03-10T12:29:33.388156",
     "exception": false,
     "start_time": "2023-03-10T12:29:33.343915",
     "status": "completed"
    },
    "tags": []
   },
   "source": [
    "# 🎯 Feature Engineering 🎯\n",
    "* Here we create features and process our data, by steps that were identified in our EDA"
   ]
  },
  {
   "cell_type": "code",
   "execution_count": 12,
   "id": "62af2f97",
   "metadata": {
    "execution": {
     "iopub.execute_input": "2023-03-10T12:29:33.485922Z",
     "iopub.status.busy": "2023-03-10T12:29:33.484519Z",
     "iopub.status.idle": "2023-03-10T12:29:33.513866Z",
     "shell.execute_reply": "2023-03-10T12:29:33.512749Z"
    },
    "papermill": {
     "duration": 0.081253,
     "end_time": "2023-03-10T12:29:33.516845",
     "exception": false,
     "start_time": "2023-03-10T12:29:33.435592",
     "status": "completed"
    },
    "tags": []
   },
   "outputs": [
    {
     "data": {
      "text/html": [
       "<div>\n",
       "<style scoped>\n",
       "    .dataframe tbody tr th:only-of-type {\n",
       "        vertical-align: middle;\n",
       "    }\n",
       "\n",
       "    .dataframe tbody tr th {\n",
       "        vertical-align: top;\n",
       "    }\n",
       "\n",
       "    .dataframe thead th {\n",
       "        text-align: right;\n",
       "    }\n",
       "</style>\n",
       "<table border=\"1\" class=\"dataframe\">\n",
       "  <thead>\n",
       "    <tr style=\"text-align: right;\">\n",
       "      <th></th>\n",
       "      <th>CementComponent</th>\n",
       "      <th>BlastFurnaceSlag</th>\n",
       "      <th>FlyAshComponent</th>\n",
       "      <th>WaterComponent</th>\n",
       "      <th>SuperplasticizerComponent</th>\n",
       "      <th>CoarseAggregateComponent</th>\n",
       "      <th>FineAggregateComponent</th>\n",
       "      <th>AgeInDays</th>\n",
       "      <th>Strength</th>\n",
       "      <th>is_generated</th>\n",
       "    </tr>\n",
       "  </thead>\n",
       "  <tbody>\n",
       "    <tr>\n",
       "      <th>0</th>\n",
       "      <td>525.0</td>\n",
       "      <td>0.0</td>\n",
       "      <td>0.0</td>\n",
       "      <td>186.0</td>\n",
       "      <td>0.0</td>\n",
       "      <td>1125.0</td>\n",
       "      <td>613.0</td>\n",
       "      <td>3</td>\n",
       "      <td>10.38</td>\n",
       "      <td>1</td>\n",
       "    </tr>\n",
       "    <tr>\n",
       "      <th>1</th>\n",
       "      <td>143.0</td>\n",
       "      <td>169.0</td>\n",
       "      <td>143.0</td>\n",
       "      <td>191.0</td>\n",
       "      <td>8.0</td>\n",
       "      <td>967.0</td>\n",
       "      <td>643.0</td>\n",
       "      <td>28</td>\n",
       "      <td>23.52</td>\n",
       "      <td>1</td>\n",
       "    </tr>\n",
       "    <tr>\n",
       "      <th>2</th>\n",
       "      <td>289.0</td>\n",
       "      <td>134.7</td>\n",
       "      <td>0.0</td>\n",
       "      <td>185.7</td>\n",
       "      <td>0.0</td>\n",
       "      <td>1075.0</td>\n",
       "      <td>795.3</td>\n",
       "      <td>28</td>\n",
       "      <td>36.96</td>\n",
       "      <td>1</td>\n",
       "    </tr>\n",
       "    <tr>\n",
       "      <th>3</th>\n",
       "      <td>304.0</td>\n",
       "      <td>76.0</td>\n",
       "      <td>0.0</td>\n",
       "      <td>228.0</td>\n",
       "      <td>0.0</td>\n",
       "      <td>932.0</td>\n",
       "      <td>670.0</td>\n",
       "      <td>365</td>\n",
       "      <td>39.05</td>\n",
       "      <td>1</td>\n",
       "    </tr>\n",
       "    <tr>\n",
       "      <th>4</th>\n",
       "      <td>157.0</td>\n",
       "      <td>236.0</td>\n",
       "      <td>0.0</td>\n",
       "      <td>192.0</td>\n",
       "      <td>0.0</td>\n",
       "      <td>935.4</td>\n",
       "      <td>781.2</td>\n",
       "      <td>90</td>\n",
       "      <td>74.19</td>\n",
       "      <td>1</td>\n",
       "    </tr>\n",
       "    <tr>\n",
       "      <th>...</th>\n",
       "      <td>...</td>\n",
       "      <td>...</td>\n",
       "      <td>...</td>\n",
       "      <td>...</td>\n",
       "      <td>...</td>\n",
       "      <td>...</td>\n",
       "      <td>...</td>\n",
       "      <td>...</td>\n",
       "      <td>...</td>\n",
       "      <td>...</td>\n",
       "    </tr>\n",
       "    <tr>\n",
       "      <th>6432</th>\n",
       "      <td>276.4</td>\n",
       "      <td>116.0</td>\n",
       "      <td>90.3</td>\n",
       "      <td>179.6</td>\n",
       "      <td>8.9</td>\n",
       "      <td>870.1</td>\n",
       "      <td>768.3</td>\n",
       "      <td>28</td>\n",
       "      <td>44.28</td>\n",
       "      <td>0</td>\n",
       "    </tr>\n",
       "    <tr>\n",
       "      <th>6433</th>\n",
       "      <td>322.2</td>\n",
       "      <td>0.0</td>\n",
       "      <td>115.6</td>\n",
       "      <td>196.0</td>\n",
       "      <td>10.4</td>\n",
       "      <td>817.9</td>\n",
       "      <td>813.4</td>\n",
       "      <td>28</td>\n",
       "      <td>31.18</td>\n",
       "      <td>0</td>\n",
       "    </tr>\n",
       "    <tr>\n",
       "      <th>6434</th>\n",
       "      <td>148.5</td>\n",
       "      <td>139.4</td>\n",
       "      <td>108.6</td>\n",
       "      <td>192.7</td>\n",
       "      <td>6.1</td>\n",
       "      <td>892.4</td>\n",
       "      <td>780.0</td>\n",
       "      <td>28</td>\n",
       "      <td>23.70</td>\n",
       "      <td>0</td>\n",
       "    </tr>\n",
       "    <tr>\n",
       "      <th>6435</th>\n",
       "      <td>159.1</td>\n",
       "      <td>186.7</td>\n",
       "      <td>0.0</td>\n",
       "      <td>175.6</td>\n",
       "      <td>11.3</td>\n",
       "      <td>989.6</td>\n",
       "      <td>788.9</td>\n",
       "      <td>28</td>\n",
       "      <td>32.77</td>\n",
       "      <td>0</td>\n",
       "    </tr>\n",
       "    <tr>\n",
       "      <th>6436</th>\n",
       "      <td>260.9</td>\n",
       "      <td>100.5</td>\n",
       "      <td>78.3</td>\n",
       "      <td>200.6</td>\n",
       "      <td>8.6</td>\n",
       "      <td>864.5</td>\n",
       "      <td>761.5</td>\n",
       "      <td>28</td>\n",
       "      <td>32.40</td>\n",
       "      <td>0</td>\n",
       "    </tr>\n",
       "  </tbody>\n",
       "</table>\n",
       "<p>6437 rows × 10 columns</p>\n",
       "</div>"
      ],
      "text/plain": [
       "      CementComponent  BlastFurnaceSlag  FlyAshComponent  WaterComponent  \\\n",
       "0               525.0               0.0              0.0           186.0   \n",
       "1               143.0             169.0            143.0           191.0   \n",
       "2               289.0             134.7              0.0           185.7   \n",
       "3               304.0              76.0              0.0           228.0   \n",
       "4               157.0             236.0              0.0           192.0   \n",
       "...               ...               ...              ...             ...   \n",
       "6432            276.4             116.0             90.3           179.6   \n",
       "6433            322.2               0.0            115.6           196.0   \n",
       "6434            148.5             139.4            108.6           192.7   \n",
       "6435            159.1             186.7              0.0           175.6   \n",
       "6436            260.9             100.5             78.3           200.6   \n",
       "\n",
       "      SuperplasticizerComponent  CoarseAggregateComponent  \\\n",
       "0                           0.0                    1125.0   \n",
       "1                           8.0                     967.0   \n",
       "2                           0.0                    1075.0   \n",
       "3                           0.0                     932.0   \n",
       "4                           0.0                     935.4   \n",
       "...                         ...                       ...   \n",
       "6432                        8.9                     870.1   \n",
       "6433                       10.4                     817.9   \n",
       "6434                        6.1                     892.4   \n",
       "6435                       11.3                     989.6   \n",
       "6436                        8.6                     864.5   \n",
       "\n",
       "      FineAggregateComponent  AgeInDays  Strength  is_generated  \n",
       "0                      613.0          3     10.38             1  \n",
       "1                      643.0         28     23.52             1  \n",
       "2                      795.3         28     36.96             1  \n",
       "3                      670.0        365     39.05             1  \n",
       "4                      781.2         90     74.19             1  \n",
       "...                      ...        ...       ...           ...  \n",
       "6432                   768.3         28     44.28             0  \n",
       "6433                   813.4         28     31.18             0  \n",
       "6434                   780.0         28     23.70             0  \n",
       "6435                   788.9         28     32.77             0  \n",
       "6436                   761.5         28     32.40             0  \n",
       "\n",
       "[6437 rows x 10 columns]"
      ]
     },
     "execution_count": 12,
     "metadata": {},
     "output_type": "execute_result"
    }
   ],
   "source": [
    "df_trn = df_train.copy(deep = True)\n",
    "df_tst = df_test.copy(deep = True)\n",
    "df_trn"
   ]
  },
  {
   "cell_type": "markdown",
   "id": "3ccdf181",
   "metadata": {
    "papermill": {
     "duration": 0.048064,
     "end_time": "2023-03-10T12:29:33.612378",
     "exception": false,
     "start_time": "2023-03-10T12:29:33.564314",
     "status": "completed"
    },
    "tags": []
   },
   "source": [
    "### Duplicates\n",
    "Drop duplicates (we include target column) "
   ]
  },
  {
   "cell_type": "code",
   "execution_count": 13,
   "id": "44b1dc27",
   "metadata": {
    "execution": {
     "iopub.execute_input": "2023-03-10T12:29:33.712467Z",
     "iopub.status.busy": "2023-03-10T12:29:33.711336Z",
     "iopub.status.idle": "2023-03-10T12:29:33.749100Z",
     "shell.execute_reply": "2023-03-10T12:29:33.747633Z"
    },
    "papermill": {
     "duration": 0.089707,
     "end_time": "2023-03-10T12:29:33.751997",
     "exception": false,
     "start_time": "2023-03-10T12:29:33.662290",
     "status": "completed"
    },
    "tags": []
   },
   "outputs": [
    {
     "name": "stdout",
     "output_type": "stream",
     "text": [
      "Duplicated rows: 25\n",
      "Duplicated rows, less target: 2439\n",
      "Length of train: 6437\n",
      "Percentage as duplicates (less target): 37.89%\n",
      "0\n"
     ]
    }
   ],
   "source": [
    "print(\"Duplicated rows:\",df_trn.duplicated().sum())\n",
    "print(\"Duplicated rows, less target:\",df_trn.drop(target,axis =1).duplicated().sum())\n",
    "print(\"Length of train:\",len(df_trn))\n",
    "print(f\"Percentage as duplicates (less target): {df_trn.drop(target,axis =1).duplicated().sum()/len(df_trn)*100:.2f}%\" )\n",
    "\n",
    "df_trn.drop_duplicates(inplace = True,ignore_index  = True)\n",
    "#df_tst.drop_duplicates(inplace = True,ignore_index  = True)\n",
    "print(df_trn.duplicated().sum())"
   ]
  },
  {
   "cell_type": "markdown",
   "id": "e888c044",
   "metadata": {
    "papermill": {
     "duration": 0.046595,
     "end_time": "2023-03-10T12:29:33.846723",
     "exception": false,
     "start_time": "2023-03-10T12:29:33.800128",
     "status": "completed"
    },
    "tags": []
   },
   "source": [
    "# Feature Engine "
   ]
  },
  {
   "cell_type": "code",
   "execution_count": 14,
   "id": "ec9fff01",
   "metadata": {
    "execution": {
     "iopub.execute_input": "2023-03-10T12:29:33.943650Z",
     "iopub.status.busy": "2023-03-10T12:29:33.942907Z",
     "iopub.status.idle": "2023-03-10T12:29:33.952755Z",
     "shell.execute_reply": "2023-03-10T12:29:33.951439Z"
    },
    "papermill": {
     "duration": 0.0604,
     "end_time": "2023-03-10T12:29:33.955579",
     "exception": false,
     "start_time": "2023-03-10T12:29:33.895179",
     "status": "completed"
    },
    "tags": []
   },
   "outputs": [
    {
     "data": {
      "text/plain": [
       "Index(['CementComponent', 'BlastFurnaceSlag', 'FlyAshComponent',\n",
       "       'WaterComponent', 'SuperplasticizerComponent',\n",
       "       'CoarseAggregateComponent', 'FineAggregateComponent'],\n",
       "      dtype='object')"
      ]
     },
     "execution_count": 14,
     "metadata": {},
     "output_type": "execute_result"
    }
   ],
   "source": [
    "int_cols = df_trn.dtypes[(df_trn.dtypes ==\"int64\") & (df_trn.dtypes.index != target) ].index\n",
    "float_cols = df_trn.dtypes[(df_trn.dtypes ==\"float64\") & (df_trn.dtypes.index != target)].index\n",
    "float_cols"
   ]
  },
  {
   "cell_type": "code",
   "execution_count": 15,
   "id": "1ac0f1e2",
   "metadata": {
    "execution": {
     "iopub.execute_input": "2023-03-10T12:29:34.051568Z",
     "iopub.status.busy": "2023-03-10T12:29:34.051211Z",
     "iopub.status.idle": "2023-03-10T12:29:34.057529Z",
     "shell.execute_reply": "2023-03-10T12:29:34.056641Z"
    },
    "papermill": {
     "duration": 0.057755,
     "end_time": "2023-03-10T12:29:34.060077",
     "exception": false,
     "start_time": "2023-03-10T12:29:34.002322",
     "status": "completed"
    },
    "tags": []
   },
   "outputs": [],
   "source": [
    "if FEATURE_ENGINE: \n",
    "    \n",
    "    functions = [\n",
    "        'add', \n",
    "        'mul','sub' #, 'pow',   #'mod', 'div', 'truediv','floordiv'\n",
    "    ]\n",
    "    FE = RelativeFeatures(variables  = list(float_cols), reference=list(float_cols)  ,func = functions, drop_original=False, missing_values= \"ignore\")\n",
    "    df_trn= FE.fit_transform(X = df_trn)\n",
    "    df_tst= FE.fit_transform(X = df_tst)"
   ]
  },
  {
   "cell_type": "markdown",
   "id": "7d0d7e9c",
   "metadata": {
    "papermill": {
     "duration": 0.046267,
     "end_time": "2023-03-10T12:29:34.153728",
     "exception": false,
     "start_time": "2023-03-10T12:29:34.107461",
     "status": "completed"
    },
    "tags": []
   },
   "source": [
    "#### Drop cols \n",
    "drop columns that subtract themselves "
   ]
  },
  {
   "cell_type": "code",
   "execution_count": 16,
   "id": "ca1a6e3d",
   "metadata": {
    "execution": {
     "iopub.execute_input": "2023-03-10T12:29:34.251354Z",
     "iopub.status.busy": "2023-03-10T12:29:34.250707Z",
     "iopub.status.idle": "2023-03-10T12:29:34.257872Z",
     "shell.execute_reply": "2023-03-10T12:29:34.256587Z"
    },
    "papermill": {
     "duration": 0.059472,
     "end_time": "2023-03-10T12:29:34.260611",
     "exception": false,
     "start_time": "2023-03-10T12:29:34.201139",
     "status": "completed"
    },
    "tags": []
   },
   "outputs": [
    {
     "name": "stdout",
     "output_type": "stream",
     "text": [
      "['CementComponent', 'BlastFurnaceSlag', 'FlyAshComponent', 'WaterComponent', 'SuperplasticizerComponent', 'CoarseAggregateComponent', 'FineAggregateComponent', 'AgeInDays', 'is_generated']\n"
     ]
    }
   ],
   "source": [
    "if FEATURE_ENGINE: \n",
    "    drop_cols = []\n",
    "    for i in df_test.columns:\n",
    "        drop_cols.append( i+\"_sub_\"+i)\n",
    "    df_tst.drop(drop_cols, axis =1,errors= \"ignore\", inplace = True)\n",
    "    df_trn.drop(drop_cols, axis =1,errors= \"ignore\", inplace = True)\n",
    "print([col for col in df_tst.columns])"
   ]
  },
  {
   "cell_type": "markdown",
   "id": "7a4cd22d",
   "metadata": {
    "papermill": {
     "duration": 0.045953,
     "end_time": "2023-03-10T12:29:34.353990",
     "exception": false,
     "start_time": "2023-03-10T12:29:34.308037",
     "status": "completed"
    },
    "tags": []
   },
   "source": [
    "### Additional Feats"
   ]
  },
  {
   "cell_type": "code",
   "execution_count": 17,
   "id": "0e31cee1",
   "metadata": {
    "execution": {
     "iopub.execute_input": "2023-03-10T12:29:34.449072Z",
     "iopub.status.busy": "2023-03-10T12:29:34.448464Z",
     "iopub.status.idle": "2023-03-10T12:29:34.752045Z",
     "shell.execute_reply": "2023-03-10T12:29:34.751062Z"
    },
    "papermill": {
     "duration": 0.354582,
     "end_time": "2023-03-10T12:29:34.754993",
     "exception": false,
     "start_time": "2023-03-10T12:29:34.400411",
     "status": "completed"
    },
    "tags": []
   },
   "outputs": [
    {
     "data": {
      "text/html": [
       "<div>\n",
       "<style scoped>\n",
       "    .dataframe tbody tr th:only-of-type {\n",
       "        vertical-align: middle;\n",
       "    }\n",
       "\n",
       "    .dataframe tbody tr th {\n",
       "        vertical-align: top;\n",
       "    }\n",
       "\n",
       "    .dataframe thead th {\n",
       "        text-align: right;\n",
       "    }\n",
       "</style>\n",
       "<table border=\"1\" class=\"dataframe\">\n",
       "  <thead>\n",
       "    <tr style=\"text-align: right;\">\n",
       "      <th></th>\n",
       "      <th>CementComponent</th>\n",
       "      <th>BlastFurnaceSlag</th>\n",
       "      <th>FlyAshComponent</th>\n",
       "      <th>WaterComponent</th>\n",
       "      <th>SuperplasticizerComponent</th>\n",
       "      <th>CoarseAggregateComponent</th>\n",
       "      <th>FineAggregateComponent</th>\n",
       "      <th>AgeInDays</th>\n",
       "      <th>Strength</th>\n",
       "      <th>is_generated</th>\n",
       "      <th>...</th>\n",
       "      <th>if_Blast</th>\n",
       "      <th>if_Ash</th>\n",
       "      <th>CementComponent_grp_mean</th>\n",
       "      <th>BlastFurnaceSlag_grp_mean</th>\n",
       "      <th>FlyAshComponent_grp_mean</th>\n",
       "      <th>WaterComponent_grp_mean</th>\n",
       "      <th>SuperplasticizerComponent_grp_mean</th>\n",
       "      <th>CoarseAggregateComponent_grp_mean</th>\n",
       "      <th>FineAggregateComponent_grp_mean</th>\n",
       "      <th>AgeInDays_grp_mean</th>\n",
       "    </tr>\n",
       "  </thead>\n",
       "  <tbody>\n",
       "    <tr>\n",
       "      <th>0</th>\n",
       "      <td>525.0</td>\n",
       "      <td>0.0</td>\n",
       "      <td>0.0</td>\n",
       "      <td>186.0</td>\n",
       "      <td>0.0</td>\n",
       "      <td>1125.0</td>\n",
       "      <td>613.0</td>\n",
       "      <td>3</td>\n",
       "      <td>10.38</td>\n",
       "      <td>1</td>\n",
       "      <td>...</td>\n",
       "      <td>False</td>\n",
       "      <td>False</td>\n",
       "      <td>39.276327</td>\n",
       "      <td>0.000000</td>\n",
       "      <td>0.000</td>\n",
       "      <td>36.387000</td>\n",
       "      <td>0.000000</td>\n",
       "      <td>36.985248</td>\n",
       "      <td>37.088376</td>\n",
       "      <td>17.649962</td>\n",
       "    </tr>\n",
       "    <tr>\n",
       "      <th>1</th>\n",
       "      <td>143.0</td>\n",
       "      <td>169.0</td>\n",
       "      <td>143.0</td>\n",
       "      <td>191.0</td>\n",
       "      <td>8.0</td>\n",
       "      <td>967.0</td>\n",
       "      <td>643.0</td>\n",
       "      <td>28</td>\n",
       "      <td>23.52</td>\n",
       "      <td>1</td>\n",
       "      <td>...</td>\n",
       "      <td>True</td>\n",
       "      <td>True</td>\n",
       "      <td>38.840000</td>\n",
       "      <td>37.260000</td>\n",
       "      <td>36.955</td>\n",
       "      <td>35.975000</td>\n",
       "      <td>50.408333</td>\n",
       "      <td>44.691111</td>\n",
       "      <td>55.160000</td>\n",
       "      <td>37.397488</td>\n",
       "    </tr>\n",
       "    <tr>\n",
       "      <th>2</th>\n",
       "      <td>289.0</td>\n",
       "      <td>134.7</td>\n",
       "      <td>0.0</td>\n",
       "      <td>185.7</td>\n",
       "      <td>0.0</td>\n",
       "      <td>1075.0</td>\n",
       "      <td>795.3</td>\n",
       "      <td>28</td>\n",
       "      <td>36.96</td>\n",
       "      <td>1</td>\n",
       "      <td>...</td>\n",
       "      <td>True</td>\n",
       "      <td>False</td>\n",
       "      <td>29.377143</td>\n",
       "      <td>27.623226</td>\n",
       "      <td>0.000</td>\n",
       "      <td>32.085729</td>\n",
       "      <td>0.000000</td>\n",
       "      <td>37.340000</td>\n",
       "      <td>30.250000</td>\n",
       "      <td>37.397488</td>\n",
       "    </tr>\n",
       "    <tr>\n",
       "      <th>3</th>\n",
       "      <td>304.0</td>\n",
       "      <td>76.0</td>\n",
       "      <td>0.0</td>\n",
       "      <td>228.0</td>\n",
       "      <td>0.0</td>\n",
       "      <td>932.0</td>\n",
       "      <td>670.0</td>\n",
       "      <td>365</td>\n",
       "      <td>39.05</td>\n",
       "      <td>1</td>\n",
       "      <td>...</td>\n",
       "      <td>True</td>\n",
       "      <td>False</td>\n",
       "      <td>34.334118</td>\n",
       "      <td>50.408333</td>\n",
       "      <td>0.000</td>\n",
       "      <td>41.083709</td>\n",
       "      <td>0.000000</td>\n",
       "      <td>40.688405</td>\n",
       "      <td>38.541071</td>\n",
       "      <td>43.053415</td>\n",
       "    </tr>\n",
       "    <tr>\n",
       "      <th>4</th>\n",
       "      <td>157.0</td>\n",
       "      <td>236.0</td>\n",
       "      <td>0.0</td>\n",
       "      <td>192.0</td>\n",
       "      <td>0.0</td>\n",
       "      <td>935.4</td>\n",
       "      <td>781.2</td>\n",
       "      <td>90</td>\n",
       "      <td>74.19</td>\n",
       "      <td>1</td>\n",
       "      <td>...</td>\n",
       "      <td>True</td>\n",
       "      <td>False</td>\n",
       "      <td>38.504211</td>\n",
       "      <td>38.965000</td>\n",
       "      <td>0.000</td>\n",
       "      <td>30.644892</td>\n",
       "      <td>0.000000</td>\n",
       "      <td>38.808889</td>\n",
       "      <td>38.808889</td>\n",
       "      <td>42.285341</td>\n",
       "    </tr>\n",
       "    <tr>\n",
       "      <th>...</th>\n",
       "      <td>...</td>\n",
       "      <td>...</td>\n",
       "      <td>...</td>\n",
       "      <td>...</td>\n",
       "      <td>...</td>\n",
       "      <td>...</td>\n",
       "      <td>...</td>\n",
       "      <td>...</td>\n",
       "      <td>...</td>\n",
       "      <td>...</td>\n",
       "      <td>...</td>\n",
       "      <td>...</td>\n",
       "      <td>...</td>\n",
       "      <td>...</td>\n",
       "      <td>...</td>\n",
       "      <td>...</td>\n",
       "      <td>...</td>\n",
       "      <td>...</td>\n",
       "      <td>...</td>\n",
       "      <td>...</td>\n",
       "      <td>...</td>\n",
       "    </tr>\n",
       "    <tr>\n",
       "      <th>6407</th>\n",
       "      <td>276.4</td>\n",
       "      <td>116.0</td>\n",
       "      <td>90.3</td>\n",
       "      <td>179.6</td>\n",
       "      <td>8.9</td>\n",
       "      <td>870.1</td>\n",
       "      <td>768.3</td>\n",
       "      <td>28</td>\n",
       "      <td>44.28</td>\n",
       "      <td>0</td>\n",
       "      <td>...</td>\n",
       "      <td>True</td>\n",
       "      <td>True</td>\n",
       "      <td>35.975000</td>\n",
       "      <td>33.418182</td>\n",
       "      <td>43.590</td>\n",
       "      <td>61.865000</td>\n",
       "      <td>33.856667</td>\n",
       "      <td>29.930000</td>\n",
       "      <td>35.797500</td>\n",
       "      <td>37.397488</td>\n",
       "    </tr>\n",
       "    <tr>\n",
       "      <th>6408</th>\n",
       "      <td>322.2</td>\n",
       "      <td>0.0</td>\n",
       "      <td>115.6</td>\n",
       "      <td>196.0</td>\n",
       "      <td>10.4</td>\n",
       "      <td>817.9</td>\n",
       "      <td>813.4</td>\n",
       "      <td>28</td>\n",
       "      <td>31.18</td>\n",
       "      <td>0</td>\n",
       "      <td>...</td>\n",
       "      <td>False</td>\n",
       "      <td>True</td>\n",
       "      <td>27.150000</td>\n",
       "      <td>0.000000</td>\n",
       "      <td>45.294</td>\n",
       "      <td>31.900000</td>\n",
       "      <td>27.150000</td>\n",
       "      <td>37.360000</td>\n",
       "      <td>48.280000</td>\n",
       "      <td>37.397488</td>\n",
       "    </tr>\n",
       "    <tr>\n",
       "      <th>6409</th>\n",
       "      <td>148.5</td>\n",
       "      <td>139.4</td>\n",
       "      <td>108.6</td>\n",
       "      <td>192.7</td>\n",
       "      <td>6.1</td>\n",
       "      <td>892.4</td>\n",
       "      <td>780.0</td>\n",
       "      <td>28</td>\n",
       "      <td>23.70</td>\n",
       "      <td>0</td>\n",
       "      <td>...</td>\n",
       "      <td>True</td>\n",
       "      <td>True</td>\n",
       "      <td>65.910000</td>\n",
       "      <td>56.480000</td>\n",
       "      <td>48.280</td>\n",
       "      <td>39.108000</td>\n",
       "      <td>44.650000</td>\n",
       "      <td>55.640000</td>\n",
       "      <td>29.440000</td>\n",
       "      <td>37.397488</td>\n",
       "    </tr>\n",
       "    <tr>\n",
       "      <th>6410</th>\n",
       "      <td>159.1</td>\n",
       "      <td>186.7</td>\n",
       "      <td>0.0</td>\n",
       "      <td>175.6</td>\n",
       "      <td>11.3</td>\n",
       "      <td>989.6</td>\n",
       "      <td>788.9</td>\n",
       "      <td>28</td>\n",
       "      <td>32.77</td>\n",
       "      <td>0</td>\n",
       "      <td>...</td>\n",
       "      <td>True</td>\n",
       "      <td>False</td>\n",
       "      <td>19.690000</td>\n",
       "      <td>45.910000</td>\n",
       "      <td>0.000</td>\n",
       "      <td>34.505000</td>\n",
       "      <td>38.300000</td>\n",
       "      <td>34.505000</td>\n",
       "      <td>33.200385</td>\n",
       "      <td>37.397488</td>\n",
       "    </tr>\n",
       "    <tr>\n",
       "      <th>6411</th>\n",
       "      <td>260.9</td>\n",
       "      <td>100.5</td>\n",
       "      <td>78.3</td>\n",
       "      <td>200.6</td>\n",
       "      <td>8.6</td>\n",
       "      <td>864.5</td>\n",
       "      <td>761.5</td>\n",
       "      <td>28</td>\n",
       "      <td>32.40</td>\n",
       "      <td>0</td>\n",
       "      <td>...</td>\n",
       "      <td>True</td>\n",
       "      <td>True</td>\n",
       "      <td>55.640000</td>\n",
       "      <td>36.799286</td>\n",
       "      <td>66.900</td>\n",
       "      <td>50.364000</td>\n",
       "      <td>29.870000</td>\n",
       "      <td>29.930000</td>\n",
       "      <td>37.594687</td>\n",
       "      <td>37.397488</td>\n",
       "    </tr>\n",
       "  </tbody>\n",
       "</table>\n",
       "<p>6412 rows × 32 columns</p>\n",
       "</div>"
      ],
      "text/plain": [
       "      CementComponent  BlastFurnaceSlag  FlyAshComponent  WaterComponent  \\\n",
       "0               525.0               0.0              0.0           186.0   \n",
       "1               143.0             169.0            143.0           191.0   \n",
       "2               289.0             134.7              0.0           185.7   \n",
       "3               304.0              76.0              0.0           228.0   \n",
       "4               157.0             236.0              0.0           192.0   \n",
       "...               ...               ...              ...             ...   \n",
       "6407            276.4             116.0             90.3           179.6   \n",
       "6408            322.2               0.0            115.6           196.0   \n",
       "6409            148.5             139.4            108.6           192.7   \n",
       "6410            159.1             186.7              0.0           175.6   \n",
       "6411            260.9             100.5             78.3           200.6   \n",
       "\n",
       "      SuperplasticizerComponent  CoarseAggregateComponent  \\\n",
       "0                           0.0                    1125.0   \n",
       "1                           8.0                     967.0   \n",
       "2                           0.0                    1075.0   \n",
       "3                           0.0                     932.0   \n",
       "4                           0.0                     935.4   \n",
       "...                         ...                       ...   \n",
       "6407                        8.9                     870.1   \n",
       "6408                       10.4                     817.9   \n",
       "6409                        6.1                     892.4   \n",
       "6410                       11.3                     989.6   \n",
       "6411                        8.6                     864.5   \n",
       "\n",
       "      FineAggregateComponent  AgeInDays  Strength  is_generated  ...  \\\n",
       "0                      613.0          3     10.38             1  ...   \n",
       "1                      643.0         28     23.52             1  ...   \n",
       "2                      795.3         28     36.96             1  ...   \n",
       "3                      670.0        365     39.05             1  ...   \n",
       "4                      781.2         90     74.19             1  ...   \n",
       "...                      ...        ...       ...           ...  ...   \n",
       "6407                   768.3         28     44.28             0  ...   \n",
       "6408                   813.4         28     31.18             0  ...   \n",
       "6409                   780.0         28     23.70             0  ...   \n",
       "6410                   788.9         28     32.77             0  ...   \n",
       "6411                   761.5         28     32.40             0  ...   \n",
       "\n",
       "      if_Blast  if_Ash  CementComponent_grp_mean  BlastFurnaceSlag_grp_mean  \\\n",
       "0        False   False                 39.276327                   0.000000   \n",
       "1         True    True                 38.840000                  37.260000   \n",
       "2         True   False                 29.377143                  27.623226   \n",
       "3         True   False                 34.334118                  50.408333   \n",
       "4         True   False                 38.504211                  38.965000   \n",
       "...        ...     ...                       ...                        ...   \n",
       "6407      True    True                 35.975000                  33.418182   \n",
       "6408     False    True                 27.150000                   0.000000   \n",
       "6409      True    True                 65.910000                  56.480000   \n",
       "6410      True   False                 19.690000                  45.910000   \n",
       "6411      True    True                 55.640000                  36.799286   \n",
       "\n",
       "      FlyAshComponent_grp_mean  WaterComponent_grp_mean  \\\n",
       "0                        0.000                36.387000   \n",
       "1                       36.955                35.975000   \n",
       "2                        0.000                32.085729   \n",
       "3                        0.000                41.083709   \n",
       "4                        0.000                30.644892   \n",
       "...                        ...                      ...   \n",
       "6407                    43.590                61.865000   \n",
       "6408                    45.294                31.900000   \n",
       "6409                    48.280                39.108000   \n",
       "6410                     0.000                34.505000   \n",
       "6411                    66.900                50.364000   \n",
       "\n",
       "      SuperplasticizerComponent_grp_mean  CoarseAggregateComponent_grp_mean  \\\n",
       "0                               0.000000                          36.985248   \n",
       "1                              50.408333                          44.691111   \n",
       "2                               0.000000                          37.340000   \n",
       "3                               0.000000                          40.688405   \n",
       "4                               0.000000                          38.808889   \n",
       "...                                  ...                                ...   \n",
       "6407                           33.856667                          29.930000   \n",
       "6408                           27.150000                          37.360000   \n",
       "6409                           44.650000                          55.640000   \n",
       "6410                           38.300000                          34.505000   \n",
       "6411                           29.870000                          29.930000   \n",
       "\n",
       "      FineAggregateComponent_grp_mean  AgeInDays_grp_mean  \n",
       "0                           37.088376           17.649962  \n",
       "1                           55.160000           37.397488  \n",
       "2                           30.250000           37.397488  \n",
       "3                           38.541071           43.053415  \n",
       "4                           38.808889           42.285341  \n",
       "...                               ...                 ...  \n",
       "6407                        35.797500           37.397488  \n",
       "6408                        48.280000           37.397488  \n",
       "6409                        29.440000           37.397488  \n",
       "6410                        33.200385           37.397488  \n",
       "6411                        37.594687           37.397488  \n",
       "\n",
       "[6412 rows x 32 columns]"
      ]
     },
     "execution_count": 17,
     "metadata": {},
     "output_type": "execute_result"
    }
   ],
   "source": [
    "def Additional_Features(df_in):\n",
    "    df = df_in.copy(deep = True)\n",
    "    \n",
    "    \n",
    "    df['total'] = df['CementComponent'] + df['BlastFurnaceSlag'] + df['FlyAshComponent'] + df['WaterComponent'] + df['SuperplasticizerComponent'] + df['CoarseAggregateComponent'] + df['FineAggregateComponent']\n",
    "    df['Coarse_Fine'] = df['CoarseAggregateComponent'] / df['FineAggregateComponent']\n",
    "    df['Aggregate'] = df['CoarseAggregateComponent'] + df['FineAggregateComponent']\n",
    "#     df['Aggregate_Cement'] = df['Aggregate'] / df['CementComponent'] # delete\n",
    "    df['Slag_Cement'] = df['BlastFurnaceSlag'] / df['CementComponent']\n",
    "    df['Ash_Cement'] = df['FlyAshComponent'] / df['CementComponent']\n",
    "#     df['Plastic_Cement'] = df['SuperplasticizerComponent'] / df['CementComponent']\n",
    "    df['Water_Cement'] = df['WaterComponent'] / df['CementComponent']\n",
    "    df['Age_Water'] = df['AgeInDays'] / df['WaterComponent']\n",
    "    df['Cem_pct'] = df['CementComponent'] / df['total']\n",
    "    df['Blast_pct'] = df['BlastFurnaceSlag'] / df['total']\n",
    "    df['Ash_pct'] = df['FlyAshComponent'] / df['total']\n",
    "    df['water_pct'] = df['WaterComponent'] / df['total']\n",
    "    df['plas_pct'] = df['SuperplasticizerComponent'] / df['total']\n",
    "#     df['water_pct_final'] = df['water_pct'] / (1 - df['plas_pct'])  # increase the rmse\n",
    "#     cols_to_drop = ['water_pct', 'plas_pct']\n",
    "    df['if_Blast'] = df['BlastFurnaceSlag'] != 0\n",
    "    df['if_Ash'] = df['FlyAshComponent'] != 0\n",
    "    \n",
    "    \n",
    "    \n",
    "    # feature creation with duplicates\n",
    "    for col in df_test.drop(\"is_generated\",axis =1).columns: \n",
    "        grp_target = df_trn[df_trn.drop(target,axis =1).duplicated()].groupby(col).mean()[target]\n",
    "        if 0 in grp_target.index:\n",
    "            bins = list(grp_target.index)+ [max(df_trn[col])+1]\n",
    "        else: \n",
    "            bins = [0] + list(grp_target.index)\n",
    "        \n",
    "        #add cols using bins \n",
    "        df[f\"{col}_grp_mean\"] = pd.cut(df[col], bins=bins, labels =grp_target.values )\n",
    "        df[f\"{col}_grp_mean\"] = df[f\"{col}_grp_mean\"].astype('float64').fillna(0)\n",
    "\n",
    "    return df\n",
    "\n",
    "df_trn = Additional_Features(df_trn)\n",
    "df_tst = Additional_Features(df_tst)\n",
    "df_trn"
   ]
  },
  {
   "cell_type": "markdown",
   "id": "159b1758",
   "metadata": {
    "papermill": {
     "duration": 0.046978,
     "end_time": "2023-03-10T12:29:34.850363",
     "exception": false,
     "start_time": "2023-03-10T12:29:34.803385",
     "status": "completed"
    },
    "tags": []
   },
   "source": [
    "# Split Data"
   ]
  },
  {
   "cell_type": "code",
   "execution_count": 18,
   "id": "5dcac54b",
   "metadata": {
    "execution": {
     "iopub.execute_input": "2023-03-10T12:29:34.947006Z",
     "iopub.status.busy": "2023-03-10T12:29:34.946623Z",
     "iopub.status.idle": "2023-03-10T12:29:34.958381Z",
     "shell.execute_reply": "2023-03-10T12:29:34.957359Z"
    },
    "papermill": {
     "duration": 0.062637,
     "end_time": "2023-03-10T12:29:34.960682",
     "exception": false,
     "start_time": "2023-03-10T12:29:34.898045",
     "status": "completed"
    },
    "tags": []
   },
   "outputs": [],
   "source": [
    "# drop the text column and target\n",
    "X = df_trn.drop([target],axis =1)\n",
    "y= df_trn[target]\n",
    "\n",
    "X_train, X_test, y_train, y_test = train_test_split(X, y, test_size=0.33)"
   ]
  },
  {
   "cell_type": "markdown",
   "id": "31e4b4e5",
   "metadata": {
    "papermill": {
     "duration": 0.047176,
     "end_time": "2023-03-10T12:29:35.055367",
     "exception": false,
     "start_time": "2023-03-10T12:29:35.008191",
     "status": "completed"
    },
    "tags": []
   },
   "source": [
    "### Model Parameters"
   ]
  },
  {
   "cell_type": "code",
   "execution_count": 19,
   "id": "001a9445",
   "metadata": {
    "execution": {
     "iopub.execute_input": "2023-03-10T12:29:35.153036Z",
     "iopub.status.busy": "2023-03-10T12:29:35.152685Z",
     "iopub.status.idle": "2023-03-10T12:29:35.162882Z",
     "shell.execute_reply": "2023-03-10T12:29:35.161765Z"
    },
    "papermill": {
     "duration": 0.062689,
     "end_time": "2023-03-10T12:29:35.165596",
     "exception": false,
     "start_time": "2023-03-10T12:29:35.102907",
     "status": "completed"
    },
    "tags": []
   },
   "outputs": [],
   "source": [
    "lgb_params ={'objective': 'regression',# regression_l1, huber, fair, poisson, quantile, mape, gamma, tweedie\n",
    "             \"metric\":\"rmse\", \n",
    "             \"boosting\": \"gbdt\",#\"dart\",gbdt\n",
    "#              'lambda_l1': 1.0050418664783436e-08, \n",
    "#              'lambda_l2': 9.938606206413121,\n",
    "#              'num_leaves': 44,\n",
    "#               'feature_fraction': 0.8247273276668773,\n",
    "#               'bagging_fraction': 0.5842711778104962,\n",
    "#             'bagging_freq': 6,\n",
    "#              'min_data_in_leaf': 134,\n",
    "#              'min_child_samples': 70,\n",
    "#              'max_depth': 8,   \n",
    "             'n_estimators':EPOCHS,\n",
    "             'learning_rate':0.01,\n",
    "            'device':'cpu'}\n",
    "\n",
    "xgb_params = { \n",
    "    'objective' : \"reg:squarederror\",\n",
    "    'n_estimators' : EPOCHS, \n",
    "    #'early_stopping_rounds' :30,\n",
    "    'eval_metric' : \"rmse\",\n",
    "    'learning_rate': 0.55,\n",
    "    #'max_depth': 5,\n",
    "    'booster' : 'gbtree'#'gbtree',dart\n",
    "             }\n",
    "cat_params = {'iterations':EPOCHS,\n",
    "              'eval_metric' : \"RMSE\", \n",
    "              'learning_rate': 0.01,\n",
    "              'loss_function':'RMSE'\n",
    "             }\n",
    "ET_params = {'max_depth':6, 'n_estimators':EPOCHS}\n",
    "RF_params = { 'max_depth':8,'n_estimators':EPOCHS,\n",
    "            }\n",
    "\n",
    "GR_params = {'loss':'squared_error',\n",
    "    'learning_rate':0.1,\n",
    "    'n_estimators':EPOCHS,\n",
    "    'subsample':1.0,\n",
    "    'criterion':'friedman_mse',\n",
    "    'min_samples_split':2,\n",
    "    'min_samples_leaf':1,\n",
    "    'min_weight_fraction_leaf':0.0,\n",
    "    'max_depth':3,\n",
    "    'min_impurity_decrease':0.0,\n",
    "    'max_features':None,\n",
    "    'alpha':0.9,\n",
    "    'verbose':0,\n",
    "    'max_leaf_nodes':None,\n",
    "    'warm_start':False,\n",
    "    'validation_fraction':0.1,\n",
    "    'n_iter_no_change':None,\n",
    "    'tol':0.0001,\n",
    "    'ccp_alpha':0.0}"
   ]
  },
  {
   "cell_type": "code",
   "execution_count": 20,
   "id": "52b9b8ac",
   "metadata": {
    "execution": {
     "iopub.execute_input": "2023-03-10T12:29:35.262358Z",
     "iopub.status.busy": "2023-03-10T12:29:35.261997Z",
     "iopub.status.idle": "2023-03-10T12:29:35.270469Z",
     "shell.execute_reply": "2023-03-10T12:29:35.269197Z"
    },
    "papermill": {
     "duration": 0.059994,
     "end_time": "2023-03-10T12:29:35.273217",
     "exception": false,
     "start_time": "2023-03-10T12:29:35.213223",
     "status": "completed"
    },
    "tags": []
   },
   "outputs": [],
   "source": [
    "if name ==\"xgboost\":\n",
    "    model= xgb.XGBRegressor(**xgb_params)\n",
    "elif name ==\"lightgbm\":\n",
    "    model= lgb.LGBMRegressor(**lgb_params)\n",
    "elif name == \"rf\":\n",
    "    model = RandomForestRegressor(**RF_params)\n",
    "elif name == \"catboost\":\n",
    "    model = cat.CatBoostRegressor(**cat_params)\n",
    "if name == \"LinearRegression\":\n",
    "    model = LinearRegression()\n",
    "if name == \"ET\":\n",
    "    model =ExtraTreesRegressor(**ET_params)\n",
    "if name == \"SVR\":    \n",
    "     model =SVR( kernel = \"rbf\",max_iter = EPOCHS+2000) #linear’, ‘poly’, ‘rbf’, ‘sigmoid’, ‘precomputed’\n",
    "if name == \"Ridge\":    \n",
    "     model = Ridge(alpha=430,max_iter = EPOCHS)\n",
    "if name == \"Gradient\":    \n",
    "     model = GradientBoostingRegressor(**GR_params)    "
   ]
  },
  {
   "cell_type": "code",
   "execution_count": 21,
   "id": "f5fbdcdf",
   "metadata": {
    "execution": {
     "iopub.execute_input": "2023-03-10T12:29:35.370132Z",
     "iopub.status.busy": "2023-03-10T12:29:35.369774Z",
     "iopub.status.idle": "2023-03-10T12:29:35.375256Z",
     "shell.execute_reply": "2023-03-10T12:29:35.374236Z"
    },
    "papermill": {
     "duration": 0.056742,
     "end_time": "2023-03-10T12:29:35.377643",
     "exception": false,
     "start_time": "2023-03-10T12:29:35.320901",
     "status": "completed"
    },
    "tags": []
   },
   "outputs": [],
   "source": [
    "# if name in [\"LinearRegression\",'Ridge', \"SVR\"]:\n",
    "#     scaler = StandardScaler()\n",
    "#     X_train_s = scaler.fit_transform(X_train)\n",
    "#     X_test_s  = scaler.transform(X_test)\n",
    "#     X_temp = X.copy(deep = True)\n",
    "#     X_temp = scaler.transform(X_temp)\n",
    "#     test_temp = scaler.transform(df_tst)\n",
    "#     y_train_s = y_train.copy(deep = True)\n",
    "\n",
    "# elif SCALING:\n",
    "#     X_train_s = SCALER.fit_transform(X_train)\n",
    "#     X_test_s  = SCALER.transform(X_test)\n",
    "#     X_temp = X.copy(deep = True)\n",
    "#     X_temp = SCALER.transform(X_temp)\n",
    "#     test_temp = SCALER.transform(df_tst)\n",
    "#     y_train_s = y_train.copy(deep = True)\n",
    "\n",
    "# else:\n",
    "#     #X_train_s, X_test_s , test_temp, X_temp = Scaling(X_train, X_test , df_tst, X )\n",
    "#     X_test_s = X_test.copy(deep = True)\n",
    "#     X_train_s = X_train.copy(deep = True)\n",
    "#     X_temp = X.copy(deep = True)\n",
    "#     test_temp = df_tst.copy(deep = True)\n",
    "#     y_train_s = y_train.copy(deep = True)\n",
    "\n",
    "# #Fit\n",
    "# test_preds_fold, trn_preds_fold, val_preds_fold, score_train_fold, score_val_fold , model_out= base_model(X_train_s,y_train_s,X_test_s,y_test, name,model, X_temp, test_temp, True)"
   ]
  },
  {
   "cell_type": "markdown",
   "id": "62c15ce0",
   "metadata": {
    "papermill": {
     "duration": 0.047917,
     "end_time": "2023-03-10T12:29:35.474243",
     "exception": false,
     "start_time": "2023-03-10T12:29:35.426326",
     "status": "completed"
    },
    "tags": []
   },
   "source": [
    "# Run model (initial)"
   ]
  },
  {
   "cell_type": "code",
   "execution_count": 22,
   "id": "2ab44981",
   "metadata": {
    "_kg_hide-output": true,
    "collapsed": true,
    "execution": {
     "iopub.execute_input": "2023-03-10T12:29:35.573069Z",
     "iopub.status.busy": "2023-03-10T12:29:35.572695Z",
     "iopub.status.idle": "2023-03-10T12:33:59.105805Z",
     "shell.execute_reply": "2023-03-10T12:33:59.104701Z"
    },
    "jupyter": {
     "outputs_hidden": true
    },
    "papermill": {
     "duration": 263.636603,
     "end_time": "2023-03-10T12:33:59.159525",
     "exception": false,
     "start_time": "2023-03-10T12:29:35.522922",
     "status": "completed"
    },
    "tags": []
   },
   "outputs": [
    {
     "data": {
      "text/plain": [
       "11.890148856180387"
      ]
     },
     "execution_count": 22,
     "metadata": {},
     "output_type": "execute_result"
    }
   ],
   "source": [
    "scores = cross_val_score(model, X, y, cv=kfold, scoring= scorer)\n",
    "initial_score = np.mean(scores*-1)\n",
    "initial_score"
   ]
  },
  {
   "cell_type": "code",
   "execution_count": 23,
   "id": "d17ec042",
   "metadata": {
    "execution": {
     "iopub.execute_input": "2023-03-10T12:33:59.265322Z",
     "iopub.status.busy": "2023-03-10T12:33:59.264946Z",
     "iopub.status.idle": "2023-03-10T12:33:59.272093Z",
     "shell.execute_reply": "2023-03-10T12:33:59.271149Z"
    },
    "papermill": {
     "duration": 0.062759,
     "end_time": "2023-03-10T12:33:59.274540",
     "exception": false,
     "start_time": "2023-03-10T12:33:59.211781",
     "status": "completed"
    },
    "tags": []
   },
   "outputs": [
    {
     "data": {
      "text/plain": [
       "11.890148856180387"
      ]
     },
     "execution_count": 23,
     "metadata": {},
     "output_type": "execute_result"
    }
   ],
   "source": [
    "initial_score"
   ]
  },
  {
   "cell_type": "markdown",
   "id": "39186dd3",
   "metadata": {
    "papermill": {
     "duration": 0.048547,
     "end_time": "2023-03-10T12:33:59.373846",
     "exception": false,
     "start_time": "2023-03-10T12:33:59.325299",
     "status": "completed"
    },
    "tags": []
   },
   "source": [
    "# Recursive Feature Elimination "
   ]
  },
  {
   "cell_type": "code",
   "execution_count": 24,
   "id": "afc799a9",
   "metadata": {
    "_kg_hide-output": true,
    "execution": {
     "iopub.execute_input": "2023-03-10T12:33:59.478607Z",
     "iopub.status.busy": "2023-03-10T12:33:59.477438Z",
     "iopub.status.idle": "2023-03-10T13:58:28.371956Z",
     "shell.execute_reply": "2023-03-10T13:58:28.370427Z"
    },
    "papermill": {
     "duration": 5068.95107,
     "end_time": "2023-03-10T13:58:28.375523",
     "exception": false,
     "start_time": "2023-03-10T12:33:59.424453",
     "status": "completed"
    },
    "tags": []
   },
   "outputs": [],
   "source": [
    "if RFECV1: \n",
    "    selector = RFECV(model, step=RFE_STEP, cv=kfold, scoring=\"neg_root_mean_squared_error\",min_features_to_select= 5)\n",
    "    if SCALING: \n",
    "        selector = selector.fit(X_temp, y)      \n",
    "    else:\n",
    "        selector = selector.fit(X, y)"
   ]
  },
  {
   "cell_type": "code",
   "execution_count": 25,
   "id": "4b22cb17",
   "metadata": {
    "execution": {
     "iopub.execute_input": "2023-03-10T13:58:28.477115Z",
     "iopub.status.busy": "2023-03-10T13:58:28.476787Z",
     "iopub.status.idle": "2023-03-10T13:58:28.483499Z",
     "shell.execute_reply": "2023-03-10T13:58:28.482153Z"
    },
    "papermill": {
     "duration": 0.061656,
     "end_time": "2023-03-10T13:58:28.487483",
     "exception": false,
     "start_time": "2023-03-10T13:58:28.425827",
     "status": "completed"
    },
    "tags": []
   },
   "outputs": [
    {
     "name": "stdout",
     "output_type": "stream",
     "text": [
      "Cols to keep:\n",
      "\n",
      "['CementComponent', 'BlastFurnaceSlag', 'FlyAshComponent', 'WaterComponent', 'SuperplasticizerComponent', 'CoarseAggregateComponent', 'FineAggregateComponent', 'AgeInDays', 'is_generated', 'total', 'Coarse_Fine', 'Aggregate', 'Slag_Cement', 'Ash_Cement', 'Water_Cement', 'Age_Water', 'Cem_pct', 'Blast_pct', 'Ash_pct', 'water_pct', 'plas_pct', 'CementComponent_grp_mean', 'BlastFurnaceSlag_grp_mean', 'FlyAshComponent_grp_mean', 'WaterComponent_grp_mean', 'SuperplasticizerComponent_grp_mean', 'CoarseAggregateComponent_grp_mean', 'FineAggregateComponent_grp_mean', 'AgeInDays_grp_mean']\n"
     ]
    }
   ],
   "source": [
    "if RFECV1: \n",
    "    NEW_COLS = [col for col in X.columns[selector.support_]]\n",
    "    print(\"Cols to keep:\\n\")\n",
    "    print(NEW_COLS)"
   ]
  },
  {
   "cell_type": "code",
   "execution_count": 26,
   "id": "447879af",
   "metadata": {
    "execution": {
     "iopub.execute_input": "2023-03-10T13:58:28.591088Z",
     "iopub.status.busy": "2023-03-10T13:58:28.590740Z",
     "iopub.status.idle": "2023-03-10T13:58:28.598023Z",
     "shell.execute_reply": "2023-03-10T13:58:28.596788Z"
    },
    "papermill": {
     "duration": 0.062215,
     "end_time": "2023-03-10T13:58:28.600362",
     "exception": false,
     "start_time": "2023-03-10T13:58:28.538147",
     "status": "completed"
    },
    "tags": []
   },
   "outputs": [
    {
     "name": "stdout",
     "output_type": "stream",
     "text": [
      "Optimal number of features: 29\n",
      "\n",
      "[1 1 1 1 1 1 1 1 1 1 1 1 1 1 1 1 1 1 1 1 1 2 3 1 1 1 1 1 1 1 1]\n"
     ]
    }
   ],
   "source": [
    "if RFECV1:\n",
    "    print(f\"Optimal number of features: {selector.n_features_}\\n\") \n",
    "    print( selector.ranking_)"
   ]
  },
  {
   "cell_type": "code",
   "execution_count": 27,
   "id": "813ad5ee",
   "metadata": {
    "execution": {
     "iopub.execute_input": "2023-03-10T13:58:28.709490Z",
     "iopub.status.busy": "2023-03-10T13:58:28.709176Z",
     "iopub.status.idle": "2023-03-10T13:58:28.726658Z",
     "shell.execute_reply": "2023-03-10T13:58:28.725341Z"
    },
    "papermill": {
     "duration": 0.072616,
     "end_time": "2023-03-10T13:58:28.729591",
     "exception": false,
     "start_time": "2023-03-10T13:58:28.656975",
     "status": "completed"
    },
    "tags": []
   },
   "outputs": [
    {
     "name": "stdout",
     "output_type": "stream",
     "text": [
      "{'mean_test_score': array([-12.25717306, -12.25734727, -12.26390327, -12.24096738,\n",
      "       -12.22300987, -12.21012849, -12.09337248, -11.94156008,\n",
      "       -11.92286034, -11.94651194, -11.96167938, -11.96388549,\n",
      "       -11.91035033, -11.90354389, -11.89432729, -11.89497592,\n",
      "       -11.89305264, -11.90803687, -11.89888365, -11.92116794,\n",
      "       -11.90976363, -11.89544784, -11.89395462, -11.90585823,\n",
      "       -11.8887825 , -11.89112028, -11.88978289]), 'std_test_score': array([0.24362568, 0.24817726, 0.25414353, 0.24413505, 0.25424617,\n",
      "       0.27507683, 0.20203083, 0.2437052 , 0.23647509, 0.21703732,\n",
      "       0.22637013, 0.19889164, 0.20873849, 0.20095863, 0.21471202,\n",
      "       0.21237892, 0.21911068, 0.21953101, 0.21534505, 0.19718604,\n",
      "       0.21424339, 0.22184   , 0.21790816, 0.20531676, 0.20721675,\n",
      "       0.2099627 , 0.20888515]), 'split0_test_score': array([-12.73306198, -12.69359907, -12.67155114, -12.71138026,\n",
      "       -12.77295268, -12.74888472, -12.28761595, -12.15087441,\n",
      "       -12.22996623, -12.19114893, -12.317698  , -12.26603328,\n",
      "       -12.14232873, -12.14641333, -12.22575716, -12.17242524,\n",
      "       -12.0968675 , -12.16802785, -12.10303221, -12.10850107,\n",
      "       -12.15084856, -12.11092759, -12.13640025, -12.12050012,\n",
      "       -12.10099587, -12.11561844, -12.11488206]), 'split1_test_score': array([-12.23213669, -12.29277318, -12.40496266, -12.37438683,\n",
      "       -12.37221678, -12.28227567, -12.37380913, -12.03496979,\n",
      "       -12.13204176, -12.22015988, -12.12432295, -12.13321859,\n",
      "       -12.09709119, -12.04600171, -12.11446859, -12.13000162,\n",
      "       -12.05064766, -12.11145106, -12.0022023 , -12.059527  ,\n",
      "       -12.04469815, -12.00687858, -12.03063508, -12.07762939,\n",
      "       -11.99021254, -12.01586583, -11.99164098]), 'split2_test_score': array([-12.18002763, -12.24334454, -12.05096218, -12.07710875,\n",
      "       -12.12989016, -12.03294715, -12.10595882, -11.72722604,\n",
      "       -11.68077039, -11.7761925 , -11.8154794 , -11.82699124,\n",
      "       -11.7415117 , -11.75271695, -11.81735196, -11.72050291,\n",
      "       -11.73493398, -11.70996505, -11.75924617, -11.70473468,\n",
      "       -11.70277496, -11.67598386, -11.66240834, -11.72132751,\n",
      "       -11.69527308, -11.67155638, -11.68901953]), 'split3_test_score': array([-11.88601603, -11.84632346, -11.94513124, -11.90565405,\n",
      "       -11.86025991, -11.73195481, -11.83963621, -11.48298553,\n",
      "       -11.50454425, -11.50727303, -11.61267449, -11.58286323,\n",
      "       -11.58621827, -11.50378066, -11.49269686, -11.48636835,\n",
      "       -11.4901342 , -11.48217233, -11.42802212, -11.52533714,\n",
      "       -11.53515759, -11.48688789, -11.52887843, -11.55956953,\n",
      "       -11.51942354, -11.53956278, -11.52646161]), 'split4_test_score': array([-12.02307057, -11.93891546, -11.92342485, -11.88325176,\n",
      "       -11.95706543, -12.00547762, -11.68991408, -11.71095977,\n",
      "       -11.78329043, -11.91430726, -11.93809398, -11.92097552,\n",
      "       -11.89776247, -11.76971208, -11.75823274, -11.85771908,\n",
      "       -11.83787819, -11.90445363, -11.93471919, -11.89617158,\n",
      "       -11.87498081, -11.82842106, -11.8910368 , -11.94925817,\n",
      "       -12.00144299, -11.99537407, -11.97289484]), 'split5_test_score': array([-12.5817146 , -12.41111512, -12.61569345, -12.46578872,\n",
      "       -12.31930029, -12.25702015, -11.92038213, -12.00379774,\n",
      "       -11.94336828, -11.96174435, -11.9314099 , -11.90947717,\n",
      "       -11.90373708, -11.87028296, -11.86852394, -11.89396262,\n",
      "       -11.92353479, -11.95224867, -11.84596959, -11.99010084,\n",
      "       -11.86245762, -11.89374412, -11.88168776, -11.93959123,\n",
      "       -11.90231916, -11.90188797, -11.94339526]), 'split6_test_score': array([-12.11255111, -12.2436935 , -12.25496369, -12.2123505 ,\n",
      "       -11.98591564, -12.05920373, -12.14831415, -11.91613376,\n",
      "       -12.02020115, -11.99873465, -11.96105043, -11.94189469,\n",
      "       -11.86984033, -11.88438848, -11.85484107, -11.81300595,\n",
      "       -11.85482754, -11.84006562, -11.85387479, -11.93395253,\n",
      "       -11.9476999 , -11.92105458, -11.94572341, -11.9263695 ,\n",
      "       -11.86225784, -11.8740872 , -11.88152705]), 'split7_test_score': array([-12.28612546, -12.34483855, -12.3494102 , -12.29908859,\n",
      "       -12.32844827, -12.46630474, -12.33068711, -11.95161596,\n",
      "       -11.97303546, -12.00821592, -12.10610562, -12.03441185,\n",
      "       -11.95824749, -11.92866391, -11.86660346, -11.83845612,\n",
      "       -11.8099156 , -11.89025425, -11.87795913, -11.91965128,\n",
      "       -11.86199863, -11.89392753, -11.84405803, -11.99005837,\n",
      "       -11.86499925, -11.84674633, -11.85621396]), 'split8_test_score': array([-11.9703737 , -11.92542624, -11.8787043 , -11.92402895,\n",
      "       -11.94770099, -11.93757591, -11.99040578, -11.76737403,\n",
      "       -11.59679643, -11.69452814, -11.63778252, -11.7379637 ,\n",
      "       -11.57756244, -11.70340696, -11.66000234, -11.65900775,\n",
      "       -11.63201706, -11.70287955, -11.66663705, -11.67123181,\n",
      "       -11.64744869, -11.63047986, -11.57298035, -11.62306002,\n",
      "       -11.6648318 , -11.66540734, -11.64949655]), 'split9_test_score': array([-12.51036777, -12.57041118, -12.50212407, -12.48546222,\n",
      "       -12.46519074, -12.43503583, -12.12730534, -12.0467158 ,\n",
      "       -12.01209509, -12.10284355, -12.06786797, -12.12191877,\n",
      "       -12.11921803, -12.07450008, -12.05671301, -12.0218233 ,\n",
      "       -12.0689524 , -12.05712156, -12.02184359, -12.05462015,\n",
      "       -12.11178815, -12.07012131, -12.05796748, -12.07936539,\n",
      "       -12.03988873, -12.03987169, -12.02594045]), 'split10_test_score': array([-12.11276623, -12.00186993, -12.00989376, -12.02717019,\n",
      "       -11.950595  , -12.15072149, -11.86228726, -11.57193228,\n",
      "       -11.51104065, -11.52862074, -11.51552484, -11.66051567,\n",
      "       -11.57229543, -11.66517294, -11.59383833, -11.6303206 ,\n",
      "       -11.54747652, -11.54445238, -11.61677567, -11.64512951,\n",
      "       -11.62751208, -11.55205358, -11.5488053 , -11.50980053,\n",
      "       -11.5026342 , -11.49576268, -11.50560892]), 'split11_test_score': array([-12.23750396, -12.37559241, -12.32426189, -12.27353993,\n",
      "       -12.23459561, -12.24411558, -12.23891455, -11.97809747,\n",
      "       -12.07707729, -12.00140033, -11.99495187, -11.96087184,\n",
      "       -11.94384069, -12.02788207, -11.91933965, -11.98661291,\n",
      "       -12.03918571, -11.97732977, -11.91178022, -11.99155388,\n",
      "       -11.97388385, -12.01112649, -11.97688314, -11.90322729,\n",
      "       -11.95784167, -11.96631355, -11.95488023]), 'split12_test_score': array([-12.65083407, -12.61348274, -12.59362793, -12.5667698 ,\n",
      "       -12.58706781, -12.64838314, -12.18952827, -12.17186116,\n",
      "       -12.17262526, -12.16593682, -12.30042457, -12.31583811,\n",
      "       -12.23774799, -12.27568675, -12.26364891, -12.30050716,\n",
      "       -12.28359963, -12.30205407, -12.33467136, -12.28668145,\n",
      "       -12.35566546, -12.33879847, -12.28030378, -12.2306082 ,\n",
      "       -12.27907477, -12.2842313 , -12.29471597]), 'split13_test_score': array([-12.16705943, -12.135389  , -12.25084452, -12.11176164,\n",
      "       -12.12773526, -11.86456195, -11.95073666, -12.1849003 ,\n",
      "       -12.11499059, -12.03980078, -12.08913078, -12.03659089,\n",
      "       -12.13180604, -12.0921139 , -12.07733046, -12.03851609,\n",
      "       -12.14128052, -12.08056826, -12.10023816, -12.07529266,\n",
      "       -12.07760816, -12.06149389, -12.062011  , -12.04661597,\n",
      "       -12.03266042, -12.03133382, -12.02107477]), 'split14_test_score': array([-12.17398673, -12.22343464, -12.18299319, -12.29676847,\n",
      "       -12.30621343, -12.28746487, -12.3450917 , -12.42395709,\n",
      "       -12.09106184, -12.08677219, -12.01267332, -12.00871784,\n",
      "       -11.87604707, -11.81243562, -11.8455609 , -11.87540918,\n",
      "       -11.88453825, -11.89750894, -12.02628321, -11.95503351,\n",
      "       -11.87193182, -11.94981874, -11.98954012, -11.91089223,\n",
      "       -11.91788171, -11.92318486, -11.91899115])}\n"
     ]
    }
   ],
   "source": [
    "if RFECV1:\n",
    "    Ranked_cols = pd.DataFrame(selector.ranking_, index = X.columns).sort_values(ascending = False, by= [0] )\n",
    "    Ranked_cols.to_csv(\"Ranked_cols.csv\")\n",
    "    print(selector.cv_results_)"
   ]
  },
  {
   "cell_type": "code",
   "execution_count": 28,
   "id": "260e55ce",
   "metadata": {
    "execution": {
     "iopub.execute_input": "2023-03-10T13:58:28.835604Z",
     "iopub.status.busy": "2023-03-10T13:58:28.835258Z",
     "iopub.status.idle": "2023-03-10T13:58:29.470910Z",
     "shell.execute_reply": "2023-03-10T13:58:29.469774Z"
    },
    "papermill": {
     "duration": 0.691139,
     "end_time": "2023-03-10T13:58:29.473857",
     "exception": false,
     "start_time": "2023-03-10T13:58:28.782718",
     "status": "completed"
    },
    "tags": []
   },
   "outputs": [
    {
     "data": {
      "image/png": "[encoded data removed]",
      "text/plain": [
       "<Figure size 1800x864 with 1 Axes>"
      ]
     },
     "metadata": {},
     "output_type": "display_data"
    }
   ],
   "source": [
    "if RFECV1:\n",
    "    plt.figure(figsize= (25,12))\n",
    "    sns.barplot(x= Ranked_cols[0], y= Ranked_cols.index)\n",
    "    plt.xticks(rotation = 90) \n",
    "    plt.show()"
   ]
  },
  {
   "cell_type": "code",
   "execution_count": 29,
   "id": "5c4575ff",
   "metadata": {
    "execution": {
     "iopub.execute_input": "2023-03-10T13:58:29.583924Z",
     "iopub.status.busy": "2023-03-10T13:58:29.583345Z",
     "iopub.status.idle": "2023-03-10T13:58:29.883032Z",
     "shell.execute_reply": "2023-03-10T13:58:29.881901Z"
    },
    "papermill": {
     "duration": 0.357358,
     "end_time": "2023-03-10T13:58:29.886040",
     "exception": false,
     "start_time": "2023-03-10T13:58:29.528682",
     "status": "completed"
    },
    "tags": []
   },
   "outputs": [
    {
     "data": {
      "image/png": "[encoded data removed]",
      "text/plain": [
       "<Figure size 1800x504 with 1 Axes>"
      ]
     },
     "metadata": {},
     "output_type": "display_data"
    }
   ],
   "source": [
    "if RFECV1:\n",
    "    try:\n",
    "        n_scores = len(selector.cv_results_[\"mean_test_score\"])\n",
    "        plt.figure(figsize=(25,7))\n",
    "        plt.xlabel(\"Number of features selected\")\n",
    "        plt.ylabel(\"Mean Score\")\n",
    "        plt.errorbar(\n",
    "            range(0, n_scores),\n",
    "            selector.cv_results_[\"mean_test_score\"],\n",
    "            yerr=selector.cv_results_[\"std_test_score\"],\n",
    "        )\n",
    "        plt.title(\"Recursive Feature Elimination\")\n",
    "        plt.show()\n",
    "    except:\n",
    "        print(\"cant show\")"
   ]
  },
  {
   "cell_type": "markdown",
   "id": "0e3d197c",
   "metadata": {
    "papermill": {
     "duration": 0.054404,
     "end_time": "2023-03-10T13:58:29.998407",
     "exception": false,
     "start_time": "2023-03-10T13:58:29.944003",
     "status": "completed"
    },
    "tags": []
   },
   "source": [
    "# Resulting columns"
   ]
  },
  {
   "cell_type": "code",
   "execution_count": 30,
   "id": "2beb5757",
   "metadata": {
    "execution": {
     "iopub.execute_input": "2023-03-10T13:58:30.110515Z",
     "iopub.status.busy": "2023-03-10T13:58:30.110129Z",
     "iopub.status.idle": "2023-03-10T13:58:30.119431Z",
     "shell.execute_reply": "2023-03-10T13:58:30.118648Z"
    },
    "papermill": {
     "duration": 0.06877,
     "end_time": "2023-03-10T13:58:30.121741",
     "exception": false,
     "start_time": "2023-03-10T13:58:30.052971",
     "status": "completed"
    },
    "tags": []
   },
   "outputs": [
    {
     "name": "stdout",
     "output_type": "stream",
     "text": [
      "Drop cols:\n"
     ]
    },
    {
     "data": {
      "text/plain": [
       "['if_Blast', 'if_Ash']"
      ]
     },
     "execution_count": 30,
     "metadata": {},
     "output_type": "execute_result"
    }
   ],
   "source": [
    "print(\"Drop cols:\")\n",
    "[col for col in df_trn.drop(target,axis=1).columns if col not in NEW_COLS]"
   ]
  },
  {
   "cell_type": "code",
   "execution_count": 31,
   "id": "eb85ca2a",
   "metadata": {
    "execution": {
     "iopub.execute_input": "2023-03-10T13:58:30.234716Z",
     "iopub.status.busy": "2023-03-10T13:58:30.234176Z",
     "iopub.status.idle": "2023-03-10T13:58:30.240539Z",
     "shell.execute_reply": "2023-03-10T13:58:30.239502Z"
    },
    "papermill": {
     "duration": 0.065961,
     "end_time": "2023-03-10T13:58:30.242871",
     "exception": false,
     "start_time": "2023-03-10T13:58:30.176910",
     "status": "completed"
    },
    "tags": []
   },
   "outputs": [
    {
     "name": "stdout",
     "output_type": "stream",
     "text": [
      "Keep cols:\n",
      "['CementComponent', 'BlastFurnaceSlag', 'FlyAshComponent', 'WaterComponent', 'SuperplasticizerComponent', 'CoarseAggregateComponent', 'FineAggregateComponent', 'AgeInDays', 'is_generated', 'total', 'Coarse_Fine', 'Aggregate', 'Slag_Cement', 'Ash_Cement', 'Water_Cement', 'Age_Water', 'Cem_pct', 'Blast_pct', 'Ash_pct', 'water_pct', 'plas_pct', 'CementComponent_grp_mean', 'BlastFurnaceSlag_grp_mean', 'FlyAshComponent_grp_mean', 'WaterComponent_grp_mean', 'SuperplasticizerComponent_grp_mean', 'CoarseAggregateComponent_grp_mean', 'FineAggregateComponent_grp_mean', 'AgeInDays_grp_mean']\n"
     ]
    }
   ],
   "source": [
    "print(\"Keep cols:\")\n",
    "print([col for col in NEW_COLS])"
   ]
  },
  {
   "cell_type": "markdown",
   "id": "075408da",
   "metadata": {
    "papermill": {
     "duration": 0.056038,
     "end_time": "2023-03-10T13:58:30.356487",
     "exception": false,
     "start_time": "2023-03-10T13:58:30.300449",
     "status": "completed"
    },
    "tags": []
   },
   "source": [
    "# Re-test on new cols "
   ]
  },
  {
   "cell_type": "code",
   "execution_count": 32,
   "id": "b612a850",
   "metadata": {
    "_kg_hide-output": true,
    "execution": {
     "iopub.execute_input": "2023-03-10T13:58:30.473845Z",
     "iopub.status.busy": "2023-03-10T13:58:30.472780Z",
     "iopub.status.idle": "2023-03-10T14:02:50.032098Z",
     "shell.execute_reply": "2023-03-10T14:02:50.030821Z"
    },
    "papermill": {
     "duration": 259.679601,
     "end_time": "2023-03-10T14:02:50.091955",
     "exception": false,
     "start_time": "2023-03-10T13:58:30.412354",
     "status": "completed"
    },
    "tags": []
   },
   "outputs": [
    {
     "data": {
      "text/plain": [
       "11.893761614623878"
      ]
     },
     "execution_count": 32,
     "metadata": {},
     "output_type": "execute_result"
    }
   ],
   "source": [
    "X = df_trn.drop([target],axis =1)[NEW_COLS]\n",
    "df_tst = df_tst[NEW_COLS]\n",
    "y= df_trn[target]\n",
    "\n",
    "scores = cross_val_score(model, X, y, cv=kfold, scoring= scorer)\n",
    "final_score = np.mean(scores*-1)\n",
    "final_score"
   ]
  },
  {
   "cell_type": "code",
   "execution_count": 33,
   "id": "737192a0",
   "metadata": {
    "execution": {
     "iopub.execute_input": "2023-03-10T14:02:50.207932Z",
     "iopub.status.busy": "2023-03-10T14:02:50.207572Z",
     "iopub.status.idle": "2023-03-10T14:02:50.522702Z",
     "shell.execute_reply": "2023-03-10T14:02:50.521466Z"
    },
    "papermill": {
     "duration": 0.376414,
     "end_time": "2023-03-10T14:02:50.525527",
     "exception": false,
     "start_time": "2023-03-10T14:02:50.149113",
     "status": "completed"
    },
    "tags": []
   },
   "outputs": [],
   "source": [
    "df_tst[NEW_COLS].to_csv(\"test_new_cols.csv\")\n",
    "df_trn[NEW_COLS+[target]].to_csv(\"trn_new_cols.csv\")"
   ]
  },
  {
   "cell_type": "code",
   "execution_count": 34,
   "id": "53695cf0",
   "metadata": {
    "execution": {
     "iopub.execute_input": "2023-03-10T14:02:50.645399Z",
     "iopub.status.busy": "2023-03-10T14:02:50.644478Z",
     "iopub.status.idle": "2023-03-10T14:02:50.650810Z",
     "shell.execute_reply": "2023-03-10T14:02:50.649481Z"
    },
    "papermill": {
     "duration": 0.070131,
     "end_time": "2023-03-10T14:02:50.653326",
     "exception": false,
     "start_time": "2023-03-10T14:02:50.583195",
     "status": "completed"
    },
    "tags": []
   },
   "outputs": [
    {
     "name": "stdout",
     "output_type": "stream",
     "text": [
      "Initial score:11.8901\n",
      "Final score:11.8938\n"
     ]
    }
   ],
   "source": [
    "print(f\"Initial score:{initial_score:.4f}\")\n",
    "print(f\"Final score:{final_score:.4f}\")"
   ]
  },
  {
   "cell_type": "code",
   "execution_count": null,
   "id": "89c60817",
   "metadata": {
    "papermill": {
     "duration": 0.05989,
     "end_time": "2023-03-10T14:02:50.771423",
     "exception": false,
     "start_time": "2023-03-10T14:02:50.711533",
     "status": "completed"
    },
    "tags": []
   },
   "outputs": [],
   "source": []
  }
 ],
 "metadata": {
  "kernelspec": {
   "display_name": "Python 3",
   "language": "python",
   "name": "python3"
  },
  "language_info": {
   "codemirror_mode": {
    "name": "ipython",
    "version": 3
   },
   "file_extension": ".py",
   "mimetype": "text/x-python",
   "name": "python",
   "nbconvert_exporter": "python",
   "pygments_lexer": "ipython3",
   "version": "3.7.12"
  },
  "papermill": {
   "default_parameters": {},
   "duration": 5630.403689,
   "end_time": "2023-03-10T14:02:52.071180",
   "environment_variables": {},
   "exception": null,
   "input_path": "__notebook__.ipynb",
   "output_path": "__notebook__.ipynb",
   "parameters": {},
   "start_time": "2023-03-10T12:29:01.667491",
   "version": "2.3.4"
  }
 },
 "nbformat": 4,
 "nbformat_minor": 5
}
